{
 "cells": [
  {
   "cell_type": "code",
   "execution_count": 104,
   "metadata": {
    "collapsed": true
   },
   "outputs": [],
   "source": [
    "import pandas as pd\n",
    "import numpy as np\n",
    "import matplotlib.pyplot as plt\n",
    "%matplotlib inline"
   ]
  },
  {
   "cell_type": "code",
   "execution_count": 105,
   "metadata": {
    "collapsed": false
   },
   "outputs": [
    {
     "data": {
      "text/html": [
       "<div>\n",
       "<table border=\"1\" class=\"dataframe\">\n",
       "  <thead>\n",
       "    <tr style=\"text-align: right;\">\n",
       "      <th></th>\n",
       "      <th>Pokemon No.</th>\n",
       "      <th>Name</th>\n",
       "      <th>Type 1</th>\n",
       "      <th>Type 2</th>\n",
       "      <th>Max CP</th>\n",
       "      <th>Max HP</th>\n",
       "      <th>Image URL</th>\n",
       "    </tr>\n",
       "  </thead>\n",
       "  <tbody>\n",
       "    <tr>\n",
       "      <th>0</th>\n",
       "      <td>1</td>\n",
       "      <td>Bulbasaur</td>\n",
       "      <td>Grass</td>\n",
       "      <td>Poison</td>\n",
       "      <td>1079</td>\n",
       "      <td>83</td>\n",
       "      <td>http://cdn.bulbagarden.net/upload/thumb/2/21/0...</td>\n",
       "    </tr>\n",
       "    <tr>\n",
       "      <th>1</th>\n",
       "      <td>2</td>\n",
       "      <td>Ivysaur</td>\n",
       "      <td>Grass</td>\n",
       "      <td>Poison</td>\n",
       "      <td>1643</td>\n",
       "      <td>107</td>\n",
       "      <td>http://cdn.bulbagarden.net/upload/thumb/7/73/0...</td>\n",
       "    </tr>\n",
       "    <tr>\n",
       "      <th>2</th>\n",
       "      <td>3</td>\n",
       "      <td>Venusaur</td>\n",
       "      <td>Grass</td>\n",
       "      <td>Poison</td>\n",
       "      <td>2598</td>\n",
       "      <td>138</td>\n",
       "      <td>http://cdn.bulbagarden.net/upload/thumb/a/ae/0...</td>\n",
       "    </tr>\n",
       "    <tr>\n",
       "      <th>3</th>\n",
       "      <td>4</td>\n",
       "      <td>Charmander</td>\n",
       "      <td>Fire</td>\n",
       "      <td>NaN</td>\n",
       "      <td>962</td>\n",
       "      <td>73</td>\n",
       "      <td>http://cdn.bulbagarden.net/upload/thumb/7/73/0...</td>\n",
       "    </tr>\n",
       "    <tr>\n",
       "      <th>4</th>\n",
       "      <td>5</td>\n",
       "      <td>Charmeleon</td>\n",
       "      <td>Fire</td>\n",
       "      <td>NaN</td>\n",
       "      <td>1568</td>\n",
       "      <td>103</td>\n",
       "      <td>http://cdn.bulbagarden.net/upload/thumb/4/4a/0...</td>\n",
       "    </tr>\n",
       "  </tbody>\n",
       "</table>\n",
       "</div>"
      ],
      "text/plain": [
       "   Pokemon No.        Name Type 1  Type 2  Max CP  Max HP  \\\n",
       "0            1   Bulbasaur  Grass  Poison    1079      83   \n",
       "1            2     Ivysaur  Grass  Poison    1643     107   \n",
       "2            3    Venusaur  Grass  Poison    2598     138   \n",
       "3            4  Charmander   Fire     NaN     962      73   \n",
       "4            5  Charmeleon   Fire     NaN    1568     103   \n",
       "\n",
       "                                           Image URL  \n",
       "0  http://cdn.bulbagarden.net/upload/thumb/2/21/0...  \n",
       "1  http://cdn.bulbagarden.net/upload/thumb/7/73/0...  \n",
       "2  http://cdn.bulbagarden.net/upload/thumb/a/ae/0...  \n",
       "3  http://cdn.bulbagarden.net/upload/thumb/7/73/0...  \n",
       "4  http://cdn.bulbagarden.net/upload/thumb/4/4a/0...  "
      ]
     },
     "execution_count": 105,
     "metadata": {},
     "output_type": "execute_result"
    }
   ],
   "source": [
    "df_go = pd.read_csv('pokemonGO.csv')\n",
    "spawn_clean =pd.read_csv(\"spawn_clean.csv\")\n",
    "df_go.head()"
   ]
  },
  {
   "cell_type": "code",
   "execution_count": 106,
   "metadata": {
    "collapsed": false
   },
   "outputs": [
    {
     "data": {
      "text/html": [
       "<div>\n",
       "<table border=\"1\" class=\"dataframe\">\n",
       "  <thead>\n",
       "    <tr style=\"text-align: right;\">\n",
       "      <th></th>\n",
       "      <th>level_0</th>\n",
       "      <th>index</th>\n",
       "      <th>Pokemon No.</th>\n",
       "      <th>Name</th>\n",
       "      <th>lat</th>\n",
       "      <th>lng</th>\n",
       "      <th>encounter_ms</th>\n",
       "      <th>disppear_ms</th>\n",
       "      <th>appearance_s</th>\n",
       "    </tr>\n",
       "  </thead>\n",
       "  <tbody>\n",
       "    <tr>\n",
       "      <th>0</th>\n",
       "      <td>0</td>\n",
       "      <td>0</td>\n",
       "      <td>13</td>\n",
       "      <td>Weedle</td>\n",
       "      <td>37.793592</td>\n",
       "      <td>-122.408721</td>\n",
       "      <td>1469520187732</td>\n",
       "      <td>1469519919988</td>\n",
       "      <td>267.744</td>\n",
       "    </tr>\n",
       "    <tr>\n",
       "      <th>1</th>\n",
       "      <td>1</td>\n",
       "      <td>1</td>\n",
       "      <td>16</td>\n",
       "      <td>Pidgey</td>\n",
       "      <td>37.794746</td>\n",
       "      <td>-122.406420</td>\n",
       "      <td>1469520297172</td>\n",
       "      <td>1469519919992</td>\n",
       "      <td>377.180</td>\n",
       "    </tr>\n",
       "    <tr>\n",
       "      <th>2</th>\n",
       "      <td>2</td>\n",
       "      <td>2</td>\n",
       "      <td>41</td>\n",
       "      <td>Zubat</td>\n",
       "      <td>37.794999</td>\n",
       "      <td>-122.404384</td>\n",
       "      <td>1469520709924</td>\n",
       "      <td>1469519919991</td>\n",
       "      <td>789.933</td>\n",
       "    </tr>\n",
       "    <tr>\n",
       "      <th>3</th>\n",
       "      <td>3</td>\n",
       "      <td>4</td>\n",
       "      <td>60</td>\n",
       "      <td>Poliwag</td>\n",
       "      <td>37.795592</td>\n",
       "      <td>-122.406331</td>\n",
       "      <td>1469520741876</td>\n",
       "      <td>1469519920153</td>\n",
       "      <td>821.723</td>\n",
       "    </tr>\n",
       "    <tr>\n",
       "      <th>4</th>\n",
       "      <td>4</td>\n",
       "      <td>5</td>\n",
       "      <td>50</td>\n",
       "      <td>Diglett</td>\n",
       "      <td>37.301129</td>\n",
       "      <td>-122.048453</td>\n",
       "      <td>1469520163692</td>\n",
       "      <td>1469520120130</td>\n",
       "      <td>43.562</td>\n",
       "    </tr>\n",
       "  </tbody>\n",
       "</table>\n",
       "</div>"
      ],
      "text/plain": [
       "   level_0  index  Pokemon No.     Name        lat         lng   encounter_ms  \\\n",
       "0        0      0           13   Weedle  37.793592 -122.408721  1469520187732   \n",
       "1        1      1           16   Pidgey  37.794746 -122.406420  1469520297172   \n",
       "2        2      2           41    Zubat  37.794999 -122.404384  1469520709924   \n",
       "3        3      4           60  Poliwag  37.795592 -122.406331  1469520741876   \n",
       "4        4      5           50  Diglett  37.301129 -122.048453  1469520163692   \n",
       "\n",
       "     disppear_ms  appearance_s  \n",
       "0  1469519919988       267.744  \n",
       "1  1469519919992       377.180  \n",
       "2  1469519919991       789.933  \n",
       "3  1469519920153       821.723  \n",
       "4  1469520120130        43.562  "
      ]
     },
     "execution_count": 106,
     "metadata": {},
     "output_type": "execute_result"
    }
   ],
   "source": [
    "spawns.head()"
   ]
  },
  {
   "cell_type": "code",
   "execution_count": 107,
   "metadata": {
    "collapsed": false
   },
   "outputs": [
    {
     "name": "stdout",
     "output_type": "stream",
     "text": [
      "<class 'pandas.core.frame.DataFrame'>\n",
      "RangeIndex: 151 entries, 0 to 150\n",
      "Data columns (total 7 columns):\n",
      "Pokemon No.    151 non-null int64\n",
      "Name           151 non-null object\n",
      "Type 1         151 non-null object\n",
      "Type 2         67 non-null object\n",
      "Max CP         151 non-null int64\n",
      "Max HP         151 non-null int64\n",
      "Image URL      151 non-null object\n",
      "dtypes: int64(3), object(4)\n",
      "memory usage: 8.3+ KB\n",
      "None\n",
      "---------------------------\n",
      "<class 'pandas.core.frame.DataFrame'>\n",
      "Int64Index: 293137 entries, 0 to 293136\n",
      "Data columns (total 9 columns):\n",
      "level_0         293137 non-null int64\n",
      "index           293137 non-null int64\n",
      "Pokemon No.     293137 non-null int64\n",
      "Name            293137 non-null object\n",
      "lat             293137 non-null float64\n",
      "lng             293137 non-null float64\n",
      "encounter_ms    293137 non-null int64\n",
      "disppear_ms     293137 non-null int64\n",
      "appearance_s    293137 non-null float64\n",
      "dtypes: float64(3), int64(5), object(1)\n",
      "memory usage: 22.4+ MB\n",
      "None\n"
     ]
    }
   ],
   "source": [
    "print df_go.info()\n",
    "print '---------------------------'\n",
    "print spawns.info()"
   ]
  },
  {
   "cell_type": "code",
   "execution_count": 108,
   "metadata": {
    "collapsed": true
   },
   "outputs": [],
   "source": [
    "# There are NaN values for type 2 so we fill in a description saying that theres no type 2\n",
    "df_go = df_go.fillna('No_Type_2')"
   ]
  },
  {
   "cell_type": "code",
   "execution_count": 109,
   "metadata": {
    "collapsed": false
   },
   "outputs": [],
   "source": [
    "del df_go['Image URL'] # get rid of image URL"
   ]
  },
  {
   "cell_type": "code",
   "execution_count": 110,
   "metadata": {
    "collapsed": false
   },
   "outputs": [
    {
     "data": {
      "text/html": [
       "<div>\n",
       "<table border=\"1\" class=\"dataframe\">\n",
       "  <thead>\n",
       "    <tr style=\"text-align: right;\">\n",
       "      <th></th>\n",
       "      <th>Pokemon No.</th>\n",
       "      <th>Max CP</th>\n",
       "      <th>Max HP</th>\n",
       "    </tr>\n",
       "  </thead>\n",
       "  <tbody>\n",
       "    <tr>\n",
       "      <th>count</th>\n",
       "      <td>151.000000</td>\n",
       "      <td>151.000000</td>\n",
       "      <td>151.000000</td>\n",
       "    </tr>\n",
       "    <tr>\n",
       "      <th>mean</th>\n",
       "      <td>76.000000</td>\n",
       "      <td>1637.291391</td>\n",
       "      <td>113.350993</td>\n",
       "    </tr>\n",
       "    <tr>\n",
       "      <th>std</th>\n",
       "      <td>43.734045</td>\n",
       "      <td>755.261726</td>\n",
       "      <td>45.297417</td>\n",
       "    </tr>\n",
       "    <tr>\n",
       "      <th>min</th>\n",
       "      <td>1.000000</td>\n",
       "      <td>264.000000</td>\n",
       "      <td>27.000000</td>\n",
       "    </tr>\n",
       "    <tr>\n",
       "      <th>25%</th>\n",
       "      <td>38.500000</td>\n",
       "      <td>1001.500000</td>\n",
       "      <td>83.000000</td>\n",
       "    </tr>\n",
       "    <tr>\n",
       "      <th>50%</th>\n",
       "      <td>76.000000</td>\n",
       "      <td>1594.000000</td>\n",
       "      <td>107.000000</td>\n",
       "    </tr>\n",
       "    <tr>\n",
       "      <th>75%</th>\n",
       "      <td>113.500000</td>\n",
       "      <td>2170.500000</td>\n",
       "      <td>138.000000</td>\n",
       "    </tr>\n",
       "    <tr>\n",
       "      <th>max</th>\n",
       "      <td>151.000000</td>\n",
       "      <td>4174.000000</td>\n",
       "      <td>408.000000</td>\n",
       "    </tr>\n",
       "  </tbody>\n",
       "</table>\n",
       "</div>"
      ],
      "text/plain": [
       "       Pokemon No.       Max CP      Max HP\n",
       "count   151.000000   151.000000  151.000000\n",
       "mean     76.000000  1637.291391  113.350993\n",
       "std      43.734045   755.261726   45.297417\n",
       "min       1.000000   264.000000   27.000000\n",
       "25%      38.500000  1001.500000   83.000000\n",
       "50%      76.000000  1594.000000  107.000000\n",
       "75%     113.500000  2170.500000  138.000000\n",
       "max     151.000000  4174.000000  408.000000"
      ]
     },
     "execution_count": 110,
     "metadata": {},
     "output_type": "execute_result"
    }
   ],
   "source": [
    "df_go.describe()"
   ]
  },
  {
   "cell_type": "code",
   "execution_count": 111,
   "metadata": {
    "collapsed": false
   },
   "outputs": [
    {
     "data": {
      "text/plain": [
       "Water       28\n",
       "Normal      22\n",
       "Poison      14\n",
       "Bug         12\n",
       "Grass       12\n",
       "Fire        12\n",
       "Rock         9\n",
       "Electric     9\n",
       "Ground       8\n",
       "Psychic      8\n",
       "Fighting     7\n",
       "Dragon       3\n",
       "Ghost        3\n",
       "Fairy        2\n",
       "Ice          2\n",
       "Name: Type 1, dtype: int64"
      ]
     },
     "execution_count": 111,
     "metadata": {},
     "output_type": "execute_result"
    }
   ],
   "source": [
    "df_go['Type 1'].value_counts()"
   ]
  },
  {
   "cell_type": "code",
   "execution_count": 112,
   "metadata": {
    "collapsed": false
   },
   "outputs": [
    {
     "data": {
      "text/plain": [
       "No_Type_2    84\n",
       "Poison       19\n",
       "Flying       19\n",
       "Ground        6\n",
       "Psychic       6\n",
       "Water         4\n",
       "Fairy         3\n",
       "Ice           3\n",
       "Rock          2\n",
       "Grass         2\n",
       "Steel         2\n",
       "Fighting      1\n",
       "Name: Type 2, dtype: int64"
      ]
     },
     "execution_count": 112,
     "metadata": {},
     "output_type": "execute_result"
    }
   ],
   "source": [
    "df_go['Type 2'].value_counts()"
   ]
  },
  {
   "cell_type": "code",
   "execution_count": 113,
   "metadata": {
    "collapsed": false
   },
   "outputs": [],
   "source": [
    "pokemon = df_go.merge(spawn_clean, how = 'left', on=['Pokemon No.', 'Name'])"
   ]
  },
  {
   "cell_type": "markdown",
   "metadata": {},
   "source": [
    "## Most common Pokemon"
   ]
  },
  {
   "cell_type": "code",
   "execution_count": null,
   "metadata": {
    "collapsed": true
   },
   "outputs": [],
   "source": []
  },
  {
   "cell_type": "code",
   "execution_count": 114,
   "metadata": {
    "collapsed": false
   },
   "outputs": [
    {
     "data": {
      "image/png": "[encoded data removed]",
      "text/plain": [
       "<matplotlib.figure.Figure at 0x120b00190>"
      ]
     },
     "metadata": {},
     "output_type": "display_data"
    }
   ],
   "source": [
    "ax = pokemon['Name'].value_counts().head(10).plot(kind='barh', color='brown')\n",
    "ax.set(xlabel = 'Number of times apeear', ylabel='Pokemon')\n",
    "plt.show()"
   ]
  },
  {
   "cell_type": "markdown",
   "metadata": {},
   "source": [
    "## How different types of Pokemon fair against each other"
   ]
  },
  {
   "cell_type": "code",
   "execution_count": 115,
   "metadata": {
    "collapsed": false
   },
   "outputs": [
    {
     "data": {
      "text/html": [
       "<div>\n",
       "<table border=\"1\" class=\"dataframe\">\n",
       "  <thead>\n",
       "    <tr style=\"text-align: right;\">\n",
       "      <th></th>\n",
       "      <th>Pokemon No.</th>\n",
       "      <th>Name</th>\n",
       "      <th>Type 1</th>\n",
       "      <th>Type 2</th>\n",
       "      <th>Max CP</th>\n",
       "      <th>Max HP</th>\n",
       "    </tr>\n",
       "  </thead>\n",
       "  <tbody>\n",
       "    <tr>\n",
       "      <th>112</th>\n",
       "      <td>113</td>\n",
       "      <td>Chansey</td>\n",
       "      <td>Normal</td>\n",
       "      <td>No_Type_2</td>\n",
       "      <td>679</td>\n",
       "      <td>408</td>\n",
       "    </tr>\n",
       "  </tbody>\n",
       "</table>\n",
       "</div>"
      ],
      "text/plain": [
       "     Pokemon No.     Name  Type 1     Type 2  Max CP  Max HP\n",
       "112          113  Chansey  Normal  No_Type_2     679     408"
      ]
     },
     "execution_count": 115,
     "metadata": {},
     "output_type": "execute_result"
    }
   ],
   "source": [
    "df_go[df_go['Max HP'] == df_go['Max HP'].max()]"
   ]
  },
  {
   "cell_type": "markdown",
   "metadata": {},
   "source": [
    "<img src='http://cdn.bulbagarden.net/upload/thumb/c/cd/113Chansey.png/250px-113Chansey.png'>"
   ]
  },
  {
   "cell_type": "code",
   "execution_count": 116,
   "metadata": {
    "collapsed": false
   },
   "outputs": [
    {
     "data": {
      "text/html": [
       "<div>\n",
       "<table border=\"1\" class=\"dataframe\">\n",
       "  <thead>\n",
       "    <tr style=\"text-align: right;\">\n",
       "      <th></th>\n",
       "      <th>Pokemon No.</th>\n",
       "      <th>Name</th>\n",
       "      <th>Type 1</th>\n",
       "      <th>Type 2</th>\n",
       "      <th>Max CP</th>\n",
       "      <th>Max HP</th>\n",
       "    </tr>\n",
       "  </thead>\n",
       "  <tbody>\n",
       "    <tr>\n",
       "      <th>149</th>\n",
       "      <td>150</td>\n",
       "      <td>Mewtwo</td>\n",
       "      <td>Psychic</td>\n",
       "      <td>No_Type_2</td>\n",
       "      <td>4174</td>\n",
       "      <td>180</td>\n",
       "    </tr>\n",
       "  </tbody>\n",
       "</table>\n",
       "</div>"
      ],
      "text/plain": [
       "     Pokemon No.    Name   Type 1     Type 2  Max CP  Max HP\n",
       "149          150  Mewtwo  Psychic  No_Type_2    4174     180"
      ]
     },
     "execution_count": 116,
     "metadata": {},
     "output_type": "execute_result"
    }
   ],
   "source": [
    "df_go[df_go['Max CP'] == df_go['Max CP'].max()]"
   ]
  },
  {
   "cell_type": "markdown",
   "metadata": {},
   "source": [
    "<img src = 'http://cdn.bulbagarden.net/upload/thumb/7/78/150Mewtwo.png/250px-150Mewtwo.png'>"
   ]
  },
  {
   "cell_type": "code",
   "execution_count": 117,
   "metadata": {
    "collapsed": false
   },
   "outputs": [
    {
     "data": {
      "image/png": "[encoded data removed]",
      "text/plain": [
       "<matplotlib.figure.Figure at 0x1193fce10>"
      ]
     },
     "metadata": {},
     "output_type": "display_data"
    }
   ],
   "source": [
    "fig = plt.figure(figsize=(8,6))\n",
    "ax = fig.add_subplot(111)\n",
    "ax.scatter(df_go['Max HP'], df_go['Max CP'])\n",
    "ax.plot(np.unique(df_go['Max HP']), np.poly1d(np.polyfit(df_go['Max HP'], df_go['Max CP'], 1))(np.unique(df_go['Max HP'])), color = 'red')\n",
    "ax.set(xlabel = 'HP', ylabel = 'CP')\n",
    "plt.show()"
   ]
  },
  {
   "cell_type": "code",
   "execution_count": 118,
   "metadata": {
    "collapsed": false
   },
   "outputs": [
    {
     "data": {
      "text/html": [
       "<div>\n",
       "<table border=\"1\" class=\"dataframe\">\n",
       "  <thead>\n",
       "    <tr style=\"text-align: right;\">\n",
       "      <th></th>\n",
       "      <th>Pokemon No.</th>\n",
       "      <th>Name</th>\n",
       "      <th>Type 1</th>\n",
       "      <th>Type 2</th>\n",
       "      <th>Max CP</th>\n",
       "      <th>Max HP</th>\n",
       "      <th>lat</th>\n",
       "      <th>lng</th>\n",
       "      <th>encounter_ms</th>\n",
       "      <th>disppear_ms</th>\n",
       "      <th>appearance_s</th>\n",
       "    </tr>\n",
       "  </thead>\n",
       "  <tbody>\n",
       "    <tr>\n",
       "      <th>3712</th>\n",
       "      <td>9</td>\n",
       "      <td>Blastoise</td>\n",
       "      <td>Water</td>\n",
       "      <td>No_Type_2</td>\n",
       "      <td>2560</td>\n",
       "      <td>137</td>\n",
       "      <td>NaN</td>\n",
       "      <td>NaN</td>\n",
       "      <td>NaN</td>\n",
       "      <td>NaN</td>\n",
       "      <td>NaN</td>\n",
       "    </tr>\n",
       "    <tr>\n",
       "      <th>250683</th>\n",
       "      <td>94</td>\n",
       "      <td>Gengar</td>\n",
       "      <td>Ghost</td>\n",
       "      <td>Poison</td>\n",
       "      <td>2093</td>\n",
       "      <td>107</td>\n",
       "      <td>NaN</td>\n",
       "      <td>NaN</td>\n",
       "      <td>NaN</td>\n",
       "      <td>NaN</td>\n",
       "      <td>NaN</td>\n",
       "    </tr>\n",
       "    <tr>\n",
       "      <th>263796</th>\n",
       "      <td>115</td>\n",
       "      <td>Kangaskhan</td>\n",
       "      <td>Normal</td>\n",
       "      <td>No_Type_2</td>\n",
       "      <td>2057</td>\n",
       "      <td>178</td>\n",
       "      <td>NaN</td>\n",
       "      <td>NaN</td>\n",
       "      <td>NaN</td>\n",
       "      <td>NaN</td>\n",
       "      <td>NaN</td>\n",
       "    </tr>\n",
       "    <tr>\n",
       "      <th>271987</th>\n",
       "      <td>122</td>\n",
       "      <td>Mr. Mime</td>\n",
       "      <td>Psychic</td>\n",
       "      <td>Fairy</td>\n",
       "      <td>1505</td>\n",
       "      <td>75</td>\n",
       "      <td>NaN</td>\n",
       "      <td>NaN</td>\n",
       "      <td>NaN</td>\n",
       "      <td>NaN</td>\n",
       "      <td>NaN</td>\n",
       "    </tr>\n",
       "    <tr>\n",
       "      <th>282204</th>\n",
       "      <td>131</td>\n",
       "      <td>Lapras</td>\n",
       "      <td>Water</td>\n",
       "      <td>Ice</td>\n",
       "      <td>3002</td>\n",
       "      <td>218</td>\n",
       "      <td>NaN</td>\n",
       "      <td>NaN</td>\n",
       "      <td>NaN</td>\n",
       "      <td>NaN</td>\n",
       "      <td>NaN</td>\n",
       "    </tr>\n",
       "    <tr>\n",
       "      <th>282205</th>\n",
       "      <td>132</td>\n",
       "      <td>Ditto</td>\n",
       "      <td>Normal</td>\n",
       "      <td>No_Type_2</td>\n",
       "      <td>926</td>\n",
       "      <td>88</td>\n",
       "      <td>NaN</td>\n",
       "      <td>NaN</td>\n",
       "      <td>NaN</td>\n",
       "      <td>NaN</td>\n",
       "      <td>NaN</td>\n",
       "    </tr>\n",
       "    <tr>\n",
       "      <th>291744</th>\n",
       "      <td>141</td>\n",
       "      <td>Kabutops</td>\n",
       "      <td>Rock</td>\n",
       "      <td>Water</td>\n",
       "      <td>2145</td>\n",
       "      <td>107</td>\n",
       "      <td>NaN</td>\n",
       "      <td>NaN</td>\n",
       "      <td>NaN</td>\n",
       "      <td>NaN</td>\n",
       "      <td>NaN</td>\n",
       "    </tr>\n",
       "    <tr>\n",
       "      <th>291793</th>\n",
       "      <td>144</td>\n",
       "      <td>Articuno</td>\n",
       "      <td>Ice</td>\n",
       "      <td>Flying</td>\n",
       "      <td>2999</td>\n",
       "      <td>154</td>\n",
       "      <td>NaN</td>\n",
       "      <td>NaN</td>\n",
       "      <td>NaN</td>\n",
       "      <td>NaN</td>\n",
       "      <td>NaN</td>\n",
       "    </tr>\n",
       "    <tr>\n",
       "      <th>291794</th>\n",
       "      <td>145</td>\n",
       "      <td>Zapdos</td>\n",
       "      <td>Electric</td>\n",
       "      <td>Flying</td>\n",
       "      <td>3136</td>\n",
       "      <td>154</td>\n",
       "      <td>NaN</td>\n",
       "      <td>NaN</td>\n",
       "      <td>NaN</td>\n",
       "      <td>NaN</td>\n",
       "      <td>NaN</td>\n",
       "    </tr>\n",
       "    <tr>\n",
       "      <th>291795</th>\n",
       "      <td>146</td>\n",
       "      <td>Moltres</td>\n",
       "      <td>Fire</td>\n",
       "      <td>Flying</td>\n",
       "      <td>3263</td>\n",
       "      <td>154</td>\n",
       "      <td>NaN</td>\n",
       "      <td>NaN</td>\n",
       "      <td>NaN</td>\n",
       "      <td>NaN</td>\n",
       "      <td>NaN</td>\n",
       "    </tr>\n",
       "    <tr>\n",
       "      <th>292517</th>\n",
       "      <td>149</td>\n",
       "      <td>Dragonite</td>\n",
       "      <td>Dragon</td>\n",
       "      <td>Flying</td>\n",
       "      <td>3525</td>\n",
       "      <td>156</td>\n",
       "      <td>NaN</td>\n",
       "      <td>NaN</td>\n",
       "      <td>NaN</td>\n",
       "      <td>NaN</td>\n",
       "      <td>NaN</td>\n",
       "    </tr>\n",
       "    <tr>\n",
       "      <th>292518</th>\n",
       "      <td>150</td>\n",
       "      <td>Mewtwo</td>\n",
       "      <td>Psychic</td>\n",
       "      <td>No_Type_2</td>\n",
       "      <td>4174</td>\n",
       "      <td>180</td>\n",
       "      <td>NaN</td>\n",
       "      <td>NaN</td>\n",
       "      <td>NaN</td>\n",
       "      <td>NaN</td>\n",
       "      <td>NaN</td>\n",
       "    </tr>\n",
       "    <tr>\n",
       "      <th>292519</th>\n",
       "      <td>151</td>\n",
       "      <td>Mew</td>\n",
       "      <td>Psychic</td>\n",
       "      <td>No_Type_2</td>\n",
       "      <td>3322</td>\n",
       "      <td>170</td>\n",
       "      <td>NaN</td>\n",
       "      <td>NaN</td>\n",
       "      <td>NaN</td>\n",
       "      <td>NaN</td>\n",
       "      <td>NaN</td>\n",
       "    </tr>\n",
       "  </tbody>\n",
       "</table>\n",
       "</div>"
      ],
      "text/plain": [
       "        Pokemon No.        Name    Type 1     Type 2  Max CP  Max HP  lat  \\\n",
       "3712              9   Blastoise     Water  No_Type_2    2560     137  NaN   \n",
       "250683           94      Gengar     Ghost     Poison    2093     107  NaN   \n",
       "263796          115  Kangaskhan    Normal  No_Type_2    2057     178  NaN   \n",
       "271987          122    Mr. Mime   Psychic      Fairy    1505      75  NaN   \n",
       "282204          131      Lapras     Water        Ice    3002     218  NaN   \n",
       "282205          132       Ditto    Normal  No_Type_2     926      88  NaN   \n",
       "291744          141    Kabutops      Rock      Water    2145     107  NaN   \n",
       "291793          144    Articuno       Ice     Flying    2999     154  NaN   \n",
       "291794          145      Zapdos  Electric     Flying    3136     154  NaN   \n",
       "291795          146     Moltres      Fire     Flying    3263     154  NaN   \n",
       "292517          149   Dragonite    Dragon     Flying    3525     156  NaN   \n",
       "292518          150      Mewtwo   Psychic  No_Type_2    4174     180  NaN   \n",
       "292519          151         Mew   Psychic  No_Type_2    3322     170  NaN   \n",
       "\n",
       "        lng  encounter_ms  disppear_ms  appearance_s  \n",
       "3712    NaN           NaN          NaN           NaN  \n",
       "250683  NaN           NaN          NaN           NaN  \n",
       "263796  NaN           NaN          NaN           NaN  \n",
       "271987  NaN           NaN          NaN           NaN  \n",
       "282204  NaN           NaN          NaN           NaN  \n",
       "282205  NaN           NaN          NaN           NaN  \n",
       "291744  NaN           NaN          NaN           NaN  \n",
       "291793  NaN           NaN          NaN           NaN  \n",
       "291794  NaN           NaN          NaN           NaN  \n",
       "291795  NaN           NaN          NaN           NaN  \n",
       "292517  NaN           NaN          NaN           NaN  \n",
       "292518  NaN           NaN          NaN           NaN  \n",
       "292519  NaN           NaN          NaN           NaN  "
      ]
     },
     "execution_count": 118,
     "metadata": {},
     "output_type": "execute_result"
    }
   ],
   "source": [
    "pokemon.groupby(\"Name\").filter(lambda x: len(x) == 1)"
   ]
  },
  {
   "cell_type": "code",
   "execution_count": 135,
   "metadata": {
    "collapsed": false
   },
   "outputs": [
    {
     "data": {
      "text/html": [
       "<div>\n",
       "<table border=\"1\" class=\"dataframe\">\n",
       "  <thead>\n",
       "    <tr style=\"text-align: right;\">\n",
       "      <th></th>\n",
       "      <th>Pokemon No.</th>\n",
       "      <th>Name</th>\n",
       "      <th>Type 1</th>\n",
       "      <th>Type 2</th>\n",
       "      <th>Max CP</th>\n",
       "      <th>Max HP</th>\n",
       "      <th>lat</th>\n",
       "      <th>lng</th>\n",
       "      <th>encounter_ms</th>\n",
       "      <th>disppear_ms</th>\n",
       "      <th>appearance_s</th>\n",
       "    </tr>\n",
       "  </thead>\n",
       "  <tbody>\n",
       "    <tr>\n",
       "      <th>182562</th>\n",
       "      <td>45</td>\n",
       "      <td>Vileplume</td>\n",
       "      <td>Grass</td>\n",
       "      <td>Poison</td>\n",
       "      <td>2510</td>\n",
       "      <td>130</td>\n",
       "      <td>35.701980</td>\n",
       "      <td>139.826538</td>\n",
       "      <td>1.469558e+12</td>\n",
       "      <td>1.469557e+12</td>\n",
       "      <td>826.453</td>\n",
       "    </tr>\n",
       "    <tr>\n",
       "      <th>182563</th>\n",
       "      <td>45</td>\n",
       "      <td>Vileplume</td>\n",
       "      <td>Grass</td>\n",
       "      <td>Poison</td>\n",
       "      <td>2510</td>\n",
       "      <td>130</td>\n",
       "      <td>35.701980</td>\n",
       "      <td>139.826538</td>\n",
       "      <td>1.469558e+12</td>\n",
       "      <td>1.469557e+12</td>\n",
       "      <td>826.327</td>\n",
       "    </tr>\n",
       "    <tr>\n",
       "      <th>249568</th>\n",
       "      <td>89</td>\n",
       "      <td>Muk</td>\n",
       "      <td>Poison</td>\n",
       "      <td>No_Type_2</td>\n",
       "      <td>2621</td>\n",
       "      <td>178</td>\n",
       "      <td>37.781209</td>\n",
       "      <td>-122.208082</td>\n",
       "      <td>1.469528e+12</td>\n",
       "      <td>1.469528e+12</td>\n",
       "      <td>647.515</td>\n",
       "    </tr>\n",
       "    <tr>\n",
       "      <th>249569</th>\n",
       "      <td>89</td>\n",
       "      <td>Muk</td>\n",
       "      <td>Poison</td>\n",
       "      <td>No_Type_2</td>\n",
       "      <td>2621</td>\n",
       "      <td>178</td>\n",
       "      <td>37.781209</td>\n",
       "      <td>-122.208082</td>\n",
       "      <td>1.469528e+12</td>\n",
       "      <td>1.469528e+12</td>\n",
       "      <td>647.369</td>\n",
       "    </tr>\n",
       "    <tr>\n",
       "      <th>291522</th>\n",
       "      <td>139</td>\n",
       "      <td>Omastar</td>\n",
       "      <td>Rock</td>\n",
       "      <td>Water</td>\n",
       "      <td>2249</td>\n",
       "      <td>122</td>\n",
       "      <td>37.484309</td>\n",
       "      <td>-122.232019</td>\n",
       "      <td>1.469556e+12</td>\n",
       "      <td>1.469555e+12</td>\n",
       "      <td>887.522</td>\n",
       "    </tr>\n",
       "    <tr>\n",
       "      <th>291523</th>\n",
       "      <td>139</td>\n",
       "      <td>Omastar</td>\n",
       "      <td>Rock</td>\n",
       "      <td>Water</td>\n",
       "      <td>2249</td>\n",
       "      <td>122</td>\n",
       "      <td>37.484309</td>\n",
       "      <td>-122.232019</td>\n",
       "      <td>1.469556e+12</td>\n",
       "      <td>1.469555e+12</td>\n",
       "      <td>887.443</td>\n",
       "    </tr>\n",
       "  </tbody>\n",
       "</table>\n",
       "</div>"
      ],
      "text/plain": [
       "        Pokemon No.       Name  Type 1     Type 2  Max CP  Max HP        lat  \\\n",
       "182562           45  Vileplume   Grass     Poison    2510     130  35.701980   \n",
       "182563           45  Vileplume   Grass     Poison    2510     130  35.701980   \n",
       "249568           89        Muk  Poison  No_Type_2    2621     178  37.781209   \n",
       "249569           89        Muk  Poison  No_Type_2    2621     178  37.781209   \n",
       "291522          139    Omastar    Rock      Water    2249     122  37.484309   \n",
       "291523          139    Omastar    Rock      Water    2249     122  37.484309   \n",
       "\n",
       "               lng  encounter_ms   disppear_ms  appearance_s  \n",
       "182562  139.826538  1.469558e+12  1.469557e+12       826.453  \n",
       "182563  139.826538  1.469558e+12  1.469557e+12       826.327  \n",
       "249568 -122.208082  1.469528e+12  1.469528e+12       647.515  \n",
       "249569 -122.208082  1.469528e+12  1.469528e+12       647.369  \n",
       "291522 -122.232019  1.469556e+12  1.469555e+12       887.522  \n",
       "291523 -122.232019  1.469556e+12  1.469555e+12       887.443  "
      ]
     },
     "execution_count": 135,
     "metadata": {},
     "output_type": "execute_result"
    }
   ],
   "source": [
    "few = pokemon.groupby(\"Name\").filter(lambda x: len(x) == 2)\n",
    "few"
   ]
  },
  {
   "cell_type": "markdown",
   "metadata": {},
   "source": [
    "<img src ='http://cdn.bulbagarden.net/upload/thumb/6/6a/045Vileplume.png/250px-045Vileplume.png'>\n",
    "<img src = 'http://cdn.bulbagarden.net/upload/thumb/7/7c/089Muk.png/250px-089Muk.png'>\n",
    "<img src='http://cdn.bulbagarden.net/upload/thumb/4/43/139Omastar.png/250px-139Omastar.png'>"
   ]
  },
  {
   "cell_type": "code",
   "execution_count": 137,
   "metadata": {
    "collapsed": false
   },
   "outputs": [
    {
     "data": {
      "text/plain": [
       "787.1048333333333"
      ]
     },
     "execution_count": 137,
     "metadata": {},
     "output_type": "execute_result"
    }
   ],
   "source": [
    "few.appearance_s.mean()"
   ]
  },
  {
   "cell_type": "code",
   "execution_count": 120,
   "metadata": {
    "collapsed": true
   },
   "outputs": [],
   "source": [
    "df_go['have_type_2'] = df_go['Type 2'].map({'No_Type_2':'One Type'})"
   ]
  },
  {
   "cell_type": "code",
   "execution_count": 121,
   "metadata": {
    "collapsed": false
   },
   "outputs": [],
   "source": [
    "df_go = df_go.fillna('Two Types')"
   ]
  },
  {
   "cell_type": "code",
   "execution_count": 122,
   "metadata": {
    "collapsed": false
   },
   "outputs": [
    {
     "data": {
      "text/plain": [
       "Type 1    have_type_2\n",
       "Bug       One Type        96.333333\n",
       "          Two Types      100.555556\n",
       "Dragon    One Type        92.000000\n",
       "          Two Types      156.000000\n",
       "Electric  One Type        97.666667\n",
       "          Two Types       98.666667\n",
       "Fairy     One Type       142.000000\n",
       "Fighting  One Type       112.285714\n",
       "Fire      One Type       106.400000\n",
       "          Two Types      144.500000\n",
       "Ghost     Two Types       83.000000\n",
       "Grass     One Type       115.000000\n",
       "          Two Types      114.636364\n",
       "Ground    One Type        85.500000\n",
       "          Two Types      158.000000\n",
       "Ice       Two Types      134.500000\n",
       "Normal    One Type       148.750000\n",
       "          Two Types      121.400000\n",
       "Poison    One Type       109.300000\n",
       "          Two Types      124.750000\n",
       "Psychic   One Type       118.285714\n",
       "          Two Types       75.000000\n",
       "Rock      Two Types       96.888889\n",
       "Water     One Type        98.500000\n",
       "          Two Types      141.500000\n",
       "Name: Max HP, dtype: float64"
      ]
     },
     "execution_count": 122,
     "metadata": {},
     "output_type": "execute_result"
    }
   ],
   "source": [
    "df_go.groupby(['Type 1', 'have_type_2'])['Max HP'].mean()"
   ]
  },
  {
   "cell_type": "markdown",
   "metadata": {},
   "source": [
    "## What pokemon appear most frequently near SF Bay?"
   ]
  },
  {
   "cell_type": "code",
   "execution_count": 123,
   "metadata": {
    "collapsed": false
   },
   "outputs": [
    {
     "data": {
      "text/plain": [
       "Pidgey      41484\n",
       "Zubat       34713\n",
       "Rattata     28495\n",
       "Spearow     13791\n",
       "Weedle      12762\n",
       "Doduo       11197\n",
       "Ekans       11014\n",
       "Paras       10867\n",
       "Eevee        9008\n",
       "Magikarp     6922\n",
       "Name: Name, dtype: int64"
      ]
     },
     "execution_count": 123,
     "metadata": {},
     "output_type": "execute_result"
    }
   ],
   "source": [
    "pokemon['Name'].value_counts().head(10)"
   ]
  },
  {
   "cell_type": "code",
   "execution_count": 124,
   "metadata": {
    "collapsed": false
   },
   "outputs": [],
   "source": [
    "few = pokemon.groupby(\"Name\").filter(lambda x: len(x) == 2)\n",
    "few"
   ]
  },
  {
   "cell_type": "code",
   "execution_count": 125,
   "metadata": {
    "collapsed": false
   },
   "outputs": [
    {
     "data": {
      "text/html": [
       "<div>\n",
       "<table border=\"1\" class=\"dataframe\">\n",
       "  <thead>\n",
       "    <tr style=\"text-align: right;\">\n",
       "      <th></th>\n",
       "      <th>Pokemon No.</th>\n",
       "      <th>Name</th>\n",
       "      <th>Type 1</th>\n",
       "      <th>Type 2</th>\n",
       "      <th>Max CP</th>\n",
       "      <th>Max HP</th>\n",
       "      <th>lat</th>\n",
       "      <th>lng</th>\n",
       "      <th>encounter_ms</th>\n",
       "      <th>disppear_ms</th>\n",
       "      <th>appearance_s</th>\n",
       "    </tr>\n",
       "  </thead>\n",
       "  <tbody>\n",
       "    <tr>\n",
       "      <th>182562</th>\n",
       "      <td>45</td>\n",
       "      <td>Vileplume</td>\n",
       "      <td>Grass</td>\n",
       "      <td>Poison</td>\n",
       "      <td>2510</td>\n",
       "      <td>130</td>\n",
       "      <td>35.701980</td>\n",
       "      <td>139.826538</td>\n",
       "      <td>1.469558e+12</td>\n",
       "      <td>1.469557e+12</td>\n",
       "      <td>826.453</td>\n",
       "    </tr>\n",
       "    <tr>\n",
       "      <th>182563</th>\n",
       "      <td>45</td>\n",
       "      <td>Vileplume</td>\n",
       "      <td>Grass</td>\n",
       "      <td>Poison</td>\n",
       "      <td>2510</td>\n",
       "      <td>130</td>\n",
       "      <td>35.701980</td>\n",
       "      <td>139.826538</td>\n",
       "      <td>1.469558e+12</td>\n",
       "      <td>1.469557e+12</td>\n",
       "      <td>826.327</td>\n",
       "    </tr>\n",
       "    <tr>\n",
       "      <th>249568</th>\n",
       "      <td>89</td>\n",
       "      <td>Muk</td>\n",
       "      <td>Poison</td>\n",
       "      <td>No_Type_2</td>\n",
       "      <td>2621</td>\n",
       "      <td>178</td>\n",
       "      <td>37.781209</td>\n",
       "      <td>-122.208082</td>\n",
       "      <td>1.469528e+12</td>\n",
       "      <td>1.469528e+12</td>\n",
       "      <td>647.515</td>\n",
       "    </tr>\n",
       "    <tr>\n",
       "      <th>249569</th>\n",
       "      <td>89</td>\n",
       "      <td>Muk</td>\n",
       "      <td>Poison</td>\n",
       "      <td>No_Type_2</td>\n",
       "      <td>2621</td>\n",
       "      <td>178</td>\n",
       "      <td>37.781209</td>\n",
       "      <td>-122.208082</td>\n",
       "      <td>1.469528e+12</td>\n",
       "      <td>1.469528e+12</td>\n",
       "      <td>647.369</td>\n",
       "    </tr>\n",
       "    <tr>\n",
       "      <th>291522</th>\n",
       "      <td>139</td>\n",
       "      <td>Omastar</td>\n",
       "      <td>Rock</td>\n",
       "      <td>Water</td>\n",
       "      <td>2249</td>\n",
       "      <td>122</td>\n",
       "      <td>37.484309</td>\n",
       "      <td>-122.232019</td>\n",
       "      <td>1.469556e+12</td>\n",
       "      <td>1.469555e+12</td>\n",
       "      <td>887.522</td>\n",
       "    </tr>\n",
       "    <tr>\n",
       "      <th>291523</th>\n",
       "      <td>139</td>\n",
       "      <td>Omastar</td>\n",
       "      <td>Rock</td>\n",
       "      <td>Water</td>\n",
       "      <td>2249</td>\n",
       "      <td>122</td>\n",
       "      <td>37.484309</td>\n",
       "      <td>-122.232019</td>\n",
       "      <td>1.469556e+12</td>\n",
       "      <td>1.469555e+12</td>\n",
       "      <td>887.443</td>\n",
       "    </tr>\n",
       "  </tbody>\n",
       "</table>\n",
       "</div>"
      ],
      "text/plain": [
       "        Pokemon No.       Name  Type 1     Type 2  Max CP  Max HP        lat  \\\n",
       "182562           45  Vileplume   Grass     Poison    2510     130  35.701980   \n",
       "182563           45  Vileplume   Grass     Poison    2510     130  35.701980   \n",
       "249568           89        Muk  Poison  No_Type_2    2621     178  37.781209   \n",
       "249569           89        Muk  Poison  No_Type_2    2621     178  37.781209   \n",
       "291522          139    Omastar    Rock      Water    2249     122  37.484309   \n",
       "291523          139    Omastar    Rock      Water    2249     122  37.484309   \n",
       "\n",
       "               lng  encounter_ms   disppear_ms  appearance_s  \n",
       "182562  139.826538  1.469558e+12  1.469557e+12       826.453  \n",
       "182563  139.826538  1.469558e+12  1.469557e+12       826.327  \n",
       "249568 -122.208082  1.469528e+12  1.469528e+12       647.515  \n",
       "249569 -122.208082  1.469528e+12  1.469528e+12       647.369  \n",
       "291522 -122.232019  1.469556e+12  1.469555e+12       887.522  \n",
       "291523 -122.232019  1.469556e+12  1.469555e+12       887.443  "
      ]
     },
     "execution_count": 125,
     "metadata": {},
     "output_type": "execute_result"
    }
   ],
   "source": [
    "few"
   ]
  },
  {
   "cell_type": "markdown",
   "metadata": {},
   "source": [
    "<img src ='http://cdn.bulbagarden.net/upload/thumb/6/6a/045Vileplume.png/250px-045Vileplume.png'>\n",
    "<img src = 'http://cdn.bulbagarden.net/upload/thumb/7/7c/089Muk.png/250px-089Muk.png'>\n",
    "<img src='http://cdn.bulbagarden.net/upload/thumb/4/43/139Omastar.png/250px-139Omastar.png'>"
   ]
  },
  {
   "cell_type": "code",
   "execution_count": 126,
   "metadata": {
    "collapsed": false
   },
   "outputs": [
    {
     "data": {
      "text/plain": [
       "787.1048333333333"
      ]
     },
     "execution_count": 126,
     "metadata": {},
     "output_type": "execute_result"
    }
   ],
   "source": [
    "few.appearance_s.mean()"
   ]
  },
  {
   "cell_type": "code",
   "execution_count": 127,
   "metadata": {
    "collapsed": false
   },
   "outputs": [
    {
     "data": {
      "text/html": [
       "<div>\n",
       "<table border=\"1\" class=\"dataframe\">\n",
       "  <thead>\n",
       "    <tr style=\"text-align: right;\">\n",
       "      <th></th>\n",
       "      <th>Pokemon No.</th>\n",
       "      <th>Name</th>\n",
       "      <th>Type 1</th>\n",
       "      <th>Type 2</th>\n",
       "      <th>Max CP</th>\n",
       "      <th>Max HP</th>\n",
       "      <th>lat</th>\n",
       "      <th>lng</th>\n",
       "      <th>encounter_ms</th>\n",
       "      <th>disppear_ms</th>\n",
       "      <th>appearance_s</th>\n",
       "    </tr>\n",
       "  </thead>\n",
       "  <tbody>\n",
       "    <tr>\n",
       "      <th>3712</th>\n",
       "      <td>9</td>\n",
       "      <td>Blastoise</td>\n",
       "      <td>Water</td>\n",
       "      <td>No_Type_2</td>\n",
       "      <td>2560</td>\n",
       "      <td>137</td>\n",
       "      <td>NaN</td>\n",
       "      <td>NaN</td>\n",
       "      <td>NaN</td>\n",
       "      <td>NaN</td>\n",
       "      <td>NaN</td>\n",
       "    </tr>\n",
       "    <tr>\n",
       "      <th>250683</th>\n",
       "      <td>94</td>\n",
       "      <td>Gengar</td>\n",
       "      <td>Ghost</td>\n",
       "      <td>Poison</td>\n",
       "      <td>2093</td>\n",
       "      <td>107</td>\n",
       "      <td>NaN</td>\n",
       "      <td>NaN</td>\n",
       "      <td>NaN</td>\n",
       "      <td>NaN</td>\n",
       "      <td>NaN</td>\n",
       "    </tr>\n",
       "    <tr>\n",
       "      <th>263796</th>\n",
       "      <td>115</td>\n",
       "      <td>Kangaskhan</td>\n",
       "      <td>Normal</td>\n",
       "      <td>No_Type_2</td>\n",
       "      <td>2057</td>\n",
       "      <td>178</td>\n",
       "      <td>NaN</td>\n",
       "      <td>NaN</td>\n",
       "      <td>NaN</td>\n",
       "      <td>NaN</td>\n",
       "      <td>NaN</td>\n",
       "    </tr>\n",
       "    <tr>\n",
       "      <th>271987</th>\n",
       "      <td>122</td>\n",
       "      <td>Mr. Mime</td>\n",
       "      <td>Psychic</td>\n",
       "      <td>Fairy</td>\n",
       "      <td>1505</td>\n",
       "      <td>75</td>\n",
       "      <td>NaN</td>\n",
       "      <td>NaN</td>\n",
       "      <td>NaN</td>\n",
       "      <td>NaN</td>\n",
       "      <td>NaN</td>\n",
       "    </tr>\n",
       "    <tr>\n",
       "      <th>282204</th>\n",
       "      <td>131</td>\n",
       "      <td>Lapras</td>\n",
       "      <td>Water</td>\n",
       "      <td>Ice</td>\n",
       "      <td>3002</td>\n",
       "      <td>218</td>\n",
       "      <td>NaN</td>\n",
       "      <td>NaN</td>\n",
       "      <td>NaN</td>\n",
       "      <td>NaN</td>\n",
       "      <td>NaN</td>\n",
       "    </tr>\n",
       "    <tr>\n",
       "      <th>282205</th>\n",
       "      <td>132</td>\n",
       "      <td>Ditto</td>\n",
       "      <td>Normal</td>\n",
       "      <td>No_Type_2</td>\n",
       "      <td>926</td>\n",
       "      <td>88</td>\n",
       "      <td>NaN</td>\n",
       "      <td>NaN</td>\n",
       "      <td>NaN</td>\n",
       "      <td>NaN</td>\n",
       "      <td>NaN</td>\n",
       "    </tr>\n",
       "    <tr>\n",
       "      <th>291744</th>\n",
       "      <td>141</td>\n",
       "      <td>Kabutops</td>\n",
       "      <td>Rock</td>\n",
       "      <td>Water</td>\n",
       "      <td>2145</td>\n",
       "      <td>107</td>\n",
       "      <td>NaN</td>\n",
       "      <td>NaN</td>\n",
       "      <td>NaN</td>\n",
       "      <td>NaN</td>\n",
       "      <td>NaN</td>\n",
       "    </tr>\n",
       "    <tr>\n",
       "      <th>291793</th>\n",
       "      <td>144</td>\n",
       "      <td>Articuno</td>\n",
       "      <td>Ice</td>\n",
       "      <td>Flying</td>\n",
       "      <td>2999</td>\n",
       "      <td>154</td>\n",
       "      <td>NaN</td>\n",
       "      <td>NaN</td>\n",
       "      <td>NaN</td>\n",
       "      <td>NaN</td>\n",
       "      <td>NaN</td>\n",
       "    </tr>\n",
       "    <tr>\n",
       "      <th>291794</th>\n",
       "      <td>145</td>\n",
       "      <td>Zapdos</td>\n",
       "      <td>Electric</td>\n",
       "      <td>Flying</td>\n",
       "      <td>3136</td>\n",
       "      <td>154</td>\n",
       "      <td>NaN</td>\n",
       "      <td>NaN</td>\n",
       "      <td>NaN</td>\n",
       "      <td>NaN</td>\n",
       "      <td>NaN</td>\n",
       "    </tr>\n",
       "    <tr>\n",
       "      <th>291795</th>\n",
       "      <td>146</td>\n",
       "      <td>Moltres</td>\n",
       "      <td>Fire</td>\n",
       "      <td>Flying</td>\n",
       "      <td>3263</td>\n",
       "      <td>154</td>\n",
       "      <td>NaN</td>\n",
       "      <td>NaN</td>\n",
       "      <td>NaN</td>\n",
       "      <td>NaN</td>\n",
       "      <td>NaN</td>\n",
       "    </tr>\n",
       "    <tr>\n",
       "      <th>292517</th>\n",
       "      <td>149</td>\n",
       "      <td>Dragonite</td>\n",
       "      <td>Dragon</td>\n",
       "      <td>Flying</td>\n",
       "      <td>3525</td>\n",
       "      <td>156</td>\n",
       "      <td>NaN</td>\n",
       "      <td>NaN</td>\n",
       "      <td>NaN</td>\n",
       "      <td>NaN</td>\n",
       "      <td>NaN</td>\n",
       "    </tr>\n",
       "    <tr>\n",
       "      <th>292518</th>\n",
       "      <td>150</td>\n",
       "      <td>Mewtwo</td>\n",
       "      <td>Psychic</td>\n",
       "      <td>No_Type_2</td>\n",
       "      <td>4174</td>\n",
       "      <td>180</td>\n",
       "      <td>NaN</td>\n",
       "      <td>NaN</td>\n",
       "      <td>NaN</td>\n",
       "      <td>NaN</td>\n",
       "      <td>NaN</td>\n",
       "    </tr>\n",
       "    <tr>\n",
       "      <th>292519</th>\n",
       "      <td>151</td>\n",
       "      <td>Mew</td>\n",
       "      <td>Psychic</td>\n",
       "      <td>No_Type_2</td>\n",
       "      <td>3322</td>\n",
       "      <td>170</td>\n",
       "      <td>NaN</td>\n",
       "      <td>NaN</td>\n",
       "      <td>NaN</td>\n",
       "      <td>NaN</td>\n",
       "      <td>NaN</td>\n",
       "    </tr>\n",
       "  </tbody>\n",
       "</table>\n",
       "</div>"
      ],
      "text/plain": [
       "        Pokemon No.        Name    Type 1     Type 2  Max CP  Max HP  lat  \\\n",
       "3712              9   Blastoise     Water  No_Type_2    2560     137  NaN   \n",
       "250683           94      Gengar     Ghost     Poison    2093     107  NaN   \n",
       "263796          115  Kangaskhan    Normal  No_Type_2    2057     178  NaN   \n",
       "271987          122    Mr. Mime   Psychic      Fairy    1505      75  NaN   \n",
       "282204          131      Lapras     Water        Ice    3002     218  NaN   \n",
       "282205          132       Ditto    Normal  No_Type_2     926      88  NaN   \n",
       "291744          141    Kabutops      Rock      Water    2145     107  NaN   \n",
       "291793          144    Articuno       Ice     Flying    2999     154  NaN   \n",
       "291794          145      Zapdos  Electric     Flying    3136     154  NaN   \n",
       "291795          146     Moltres      Fire     Flying    3263     154  NaN   \n",
       "292517          149   Dragonite    Dragon     Flying    3525     156  NaN   \n",
       "292518          150      Mewtwo   Psychic  No_Type_2    4174     180  NaN   \n",
       "292519          151         Mew   Psychic  No_Type_2    3322     170  NaN   \n",
       "\n",
       "        lng  encounter_ms  disppear_ms  appearance_s  \n",
       "3712    NaN           NaN          NaN           NaN  \n",
       "250683  NaN           NaN          NaN           NaN  \n",
       "263796  NaN           NaN          NaN           NaN  \n",
       "271987  NaN           NaN          NaN           NaN  \n",
       "282204  NaN           NaN          NaN           NaN  \n",
       "282205  NaN           NaN          NaN           NaN  \n",
       "291744  NaN           NaN          NaN           NaN  \n",
       "291793  NaN           NaN          NaN           NaN  \n",
       "291794  NaN           NaN          NaN           NaN  \n",
       "291795  NaN           NaN          NaN           NaN  \n",
       "292517  NaN           NaN          NaN           NaN  \n",
       "292518  NaN           NaN          NaN           NaN  \n",
       "292519  NaN           NaN          NaN           NaN  "
      ]
     },
     "execution_count": 127,
     "metadata": {},
     "output_type": "execute_result"
    }
   ],
   "source": [
    "pokemon.groupby(\"Name\").filter(lambda x: len(x) == 1)"
   ]
  },
  {
   "cell_type": "code",
   "execution_count": 128,
   "metadata": {
    "collapsed": false
   },
   "outputs": [
    {
     "data": {
      "text/plain": [
       "<matplotlib.axes._subplots.AxesSubplot at 0x1193fc650>"
      ]
     },
     "execution_count": 128,
     "metadata": {},
     "output_type": "execute_result"
    },
    {
     "data": {
      "image/png": "[encoded data removed]",
      "text/plain": [
       "<matplotlib.figure.Figure at 0x116d54f90>"
      ]
     },
     "metadata": {},
     "output_type": "display_data"
    }
   ],
   "source": [
    "pd.pivot_table(df_go, index=['Type 1'], values=['Max CP', 'Max HP']).plot(kind='barh')"
   ]
  },
  {
   "cell_type": "code",
   "execution_count": null,
   "metadata": {
    "collapsed": false,
    "scrolled": true
   },
   "outputs": [],
   "source": []
  },
  {
   "cell_type": "code",
   "execution_count": 129,
   "metadata": {
    "collapsed": true
   },
   "outputs": [],
   "source": [
    "# Outlier"
   ]
  },
  {
   "cell_type": "code",
   "execution_count": 130,
   "metadata": {
    "collapsed": false
   },
   "outputs": [
    {
     "data": {
      "text/html": [
       "<div>\n",
       "<table border=\"1\" class=\"dataframe\">\n",
       "  <thead>\n",
       "    <tr style=\"text-align: right;\">\n",
       "      <th></th>\n",
       "      <th>Pokemon No.</th>\n",
       "      <th>Name</th>\n",
       "      <th>Type 1</th>\n",
       "      <th>Type 2</th>\n",
       "      <th>Max CP</th>\n",
       "      <th>Max HP</th>\n",
       "      <th>have_type_2</th>\n",
       "    </tr>\n",
       "  </thead>\n",
       "  <tbody>\n",
       "    <tr>\n",
       "      <th>112</th>\n",
       "      <td>113</td>\n",
       "      <td>Chansey</td>\n",
       "      <td>Normal</td>\n",
       "      <td>No_Type_2</td>\n",
       "      <td>679</td>\n",
       "      <td>408</td>\n",
       "      <td>One Type</td>\n",
       "    </tr>\n",
       "  </tbody>\n",
       "</table>\n",
       "</div>"
      ],
      "text/plain": [
       "     Pokemon No.     Name  Type 1     Type 2  Max CP  Max HP have_type_2\n",
       "112          113  Chansey  Normal  No_Type_2     679     408    One Type"
      ]
     },
     "execution_count": 130,
     "metadata": {},
     "output_type": "execute_result"
    }
   ],
   "source": [
    "df_go[df_go['Max HP'] == df_go['Max HP'].max()]"
   ]
  },
  {
   "cell_type": "markdown",
   "metadata": {},
   "source": [
    "<img src='http://cdn.bulbagarden.net/upload/thumb/c/cd/113Chansey.png/250px-113Chansey.png'>"
   ]
  },
  {
   "cell_type": "code",
   "execution_count": 131,
   "metadata": {
    "collapsed": false
   },
   "outputs": [
    {
     "data": {
      "text/html": [
       "<div>\n",
       "<table border=\"1\" class=\"dataframe\">\n",
       "  <thead>\n",
       "    <tr style=\"text-align: right;\">\n",
       "      <th></th>\n",
       "      <th>Pokemon No.</th>\n",
       "      <th>Name</th>\n",
       "      <th>Type 1</th>\n",
       "      <th>Type 2</th>\n",
       "      <th>Max CP</th>\n",
       "      <th>Max HP</th>\n",
       "      <th>have_type_2</th>\n",
       "    </tr>\n",
       "  </thead>\n",
       "  <tbody>\n",
       "    <tr>\n",
       "      <th>149</th>\n",
       "      <td>150</td>\n",
       "      <td>Mewtwo</td>\n",
       "      <td>Psychic</td>\n",
       "      <td>No_Type_2</td>\n",
       "      <td>4174</td>\n",
       "      <td>180</td>\n",
       "      <td>One Type</td>\n",
       "    </tr>\n",
       "  </tbody>\n",
       "</table>\n",
       "</div>"
      ],
      "text/plain": [
       "     Pokemon No.    Name   Type 1     Type 2  Max CP  Max HP have_type_2\n",
       "149          150  Mewtwo  Psychic  No_Type_2    4174     180    One Type"
      ]
     },
     "execution_count": 131,
     "metadata": {},
     "output_type": "execute_result"
    }
   ],
   "source": [
    "df_go[df_go['Max CP'] == df_go['Max CP'].max()]"
   ]
  },
  {
   "cell_type": "markdown",
   "metadata": {},
   "source": [
    "<img src = 'http://cdn.bulbagarden.net/upload/thumb/7/78/150Mewtwo.png/250px-150Mewtwo.png'>"
   ]
  },
  {
   "cell_type": "code",
   "execution_count": 132,
   "metadata": {
    "collapsed": false
   },
   "outputs": [
    {
     "data": {
      "text/html": [
       "<div>\n",
       "<table border=\"1\" class=\"dataframe\">\n",
       "  <thead>\n",
       "    <tr style=\"text-align: right;\">\n",
       "      <th></th>\n",
       "      <th></th>\n",
       "      <th>Max CP</th>\n",
       "      <th>Max HP</th>\n",
       "    </tr>\n",
       "    <tr>\n",
       "      <th>Type 1</th>\n",
       "      <th>have_type_2</th>\n",
       "      <th></th>\n",
       "      <th></th>\n",
       "    </tr>\n",
       "  </thead>\n",
       "  <tbody>\n",
       "    <tr>\n",
       "      <th rowspan=\"2\" valign=\"top\">Bug</th>\n",
       "      <th>One Type</th>\n",
       "      <td>1021.333333</td>\n",
       "      <td>96.333333</td>\n",
       "    </tr>\n",
       "    <tr>\n",
       "      <th>Two Types</th>\n",
       "      <td>1284.888889</td>\n",
       "      <td>100.555556</td>\n",
       "    </tr>\n",
       "    <tr>\n",
       "      <th rowspan=\"2\" valign=\"top\">Dragon</th>\n",
       "      <th>One Type</th>\n",
       "      <td>1375.000000</td>\n",
       "      <td>92.000000</td>\n",
       "    </tr>\n",
       "    <tr>\n",
       "      <th>Two Types</th>\n",
       "      <td>3525.000000</td>\n",
       "      <td>156.000000</td>\n",
       "    </tr>\n",
       "    <tr>\n",
       "      <th rowspan=\"2\" valign=\"top\">Electric</th>\n",
       "      <th>One Type</th>\n",
       "      <td>1621.166667</td>\n",
       "      <td>97.666667</td>\n",
       "    </tr>\n",
       "    <tr>\n",
       "      <th>Two Types</th>\n",
       "      <td>1975.333333</td>\n",
       "      <td>98.666667</td>\n",
       "    </tr>\n",
       "    <tr>\n",
       "      <th>Fairy</th>\n",
       "      <th>One Type</th>\n",
       "      <td>1811.500000</td>\n",
       "      <td>142.000000</td>\n",
       "    </tr>\n",
       "    <tr>\n",
       "      <th>Fighting</th>\n",
       "      <th>One Type</th>\n",
       "      <td>1610.428571</td>\n",
       "      <td>112.285714</td>\n",
       "    </tr>\n",
       "    <tr>\n",
       "      <th rowspan=\"2\" valign=\"top\">Fire</th>\n",
       "      <th>One Type</th>\n",
       "      <td>1860.300000</td>\n",
       "      <td>106.400000</td>\n",
       "    </tr>\n",
       "    <tr>\n",
       "      <th>Two Types</th>\n",
       "      <td>2941.500000</td>\n",
       "      <td>144.500000</td>\n",
       "    </tr>\n",
       "    <tr>\n",
       "      <th>Ghost</th>\n",
       "      <th>Two Types</th>\n",
       "      <td>1431.000000</td>\n",
       "      <td>83.000000</td>\n",
       "    </tr>\n",
       "    <tr>\n",
       "      <th rowspan=\"2\" valign=\"top\">Grass</th>\n",
       "      <th>One Type</th>\n",
       "      <td>1752.000000</td>\n",
       "      <td>115.000000</td>\n",
       "    </tr>\n",
       "    <tr>\n",
       "      <th>Two Types</th>\n",
       "      <td>1834.454545</td>\n",
       "      <td>114.636364</td>\n",
       "    </tr>\n",
       "    <tr>\n",
       "      <th rowspan=\"2\" valign=\"top\">Ground</th>\n",
       "      <th>One Type</th>\n",
       "      <td>1157.333333</td>\n",
       "      <td>85.500000</td>\n",
       "    </tr>\n",
       "    <tr>\n",
       "      <th>Two Types</th>\n",
       "      <td>1724.500000</td>\n",
       "      <td>158.000000</td>\n",
       "    </tr>\n",
       "    <tr>\n",
       "      <th>Ice</th>\n",
       "      <th>Two Types</th>\n",
       "      <td>2363.500000</td>\n",
       "      <td>134.500000</td>\n",
       "    </tr>\n",
       "    <tr>\n",
       "      <th rowspan=\"2\" valign=\"top\">Normal</th>\n",
       "      <th>One Type</th>\n",
       "      <td>1460.166667</td>\n",
       "      <td>148.750000</td>\n",
       "    </tr>\n",
       "    <tr>\n",
       "      <th>Two Types</th>\n",
       "      <td>1356.900000</td>\n",
       "      <td>121.400000</td>\n",
       "    </tr>\n",
       "    <tr>\n",
       "      <th rowspan=\"2\" valign=\"top\">Poison</th>\n",
       "      <th>One Type</th>\n",
       "      <td>1447.600000</td>\n",
       "      <td>109.300000</td>\n",
       "    </tr>\n",
       "    <tr>\n",
       "      <th>Two Types</th>\n",
       "      <td>1894.000000</td>\n",
       "      <td>124.750000</td>\n",
       "    </tr>\n",
       "    <tr>\n",
       "      <th rowspan=\"2\" valign=\"top\">Psychic</th>\n",
       "      <th>One Type</th>\n",
       "      <td>2049.571429</td>\n",
       "      <td>118.285714</td>\n",
       "    </tr>\n",
       "    <tr>\n",
       "      <th>Two Types</th>\n",
       "      <td>1505.000000</td>\n",
       "      <td>75.000000</td>\n",
       "    </tr>\n",
       "    <tr>\n",
       "      <th>Rock</th>\n",
       "      <th>Two Types</th>\n",
       "      <td>1588.111111</td>\n",
       "      <td>96.888889</td>\n",
       "    </tr>\n",
       "    <tr>\n",
       "      <th rowspan=\"2\" valign=\"top\">Water</th>\n",
       "      <th>One Type</th>\n",
       "      <td>1389.666667</td>\n",
       "      <td>98.500000</td>\n",
       "    </tr>\n",
       "    <tr>\n",
       "      <th>Two Types</th>\n",
       "      <td>2164.700000</td>\n",
       "      <td>141.500000</td>\n",
       "    </tr>\n",
       "  </tbody>\n",
       "</table>\n",
       "</div>"
      ],
      "text/plain": [
       "                           Max CP      Max HP\n",
       "Type 1   have_type_2                         \n",
       "Bug      One Type     1021.333333   96.333333\n",
       "         Two Types    1284.888889  100.555556\n",
       "Dragon   One Type     1375.000000   92.000000\n",
       "         Two Types    3525.000000  156.000000\n",
       "Electric One Type     1621.166667   97.666667\n",
       "         Two Types    1975.333333   98.666667\n",
       "Fairy    One Type     1811.500000  142.000000\n",
       "Fighting One Type     1610.428571  112.285714\n",
       "Fire     One Type     1860.300000  106.400000\n",
       "         Two Types    2941.500000  144.500000\n",
       "Ghost    Two Types    1431.000000   83.000000\n",
       "Grass    One Type     1752.000000  115.000000\n",
       "         Two Types    1834.454545  114.636364\n",
       "Ground   One Type     1157.333333   85.500000\n",
       "         Two Types    1724.500000  158.000000\n",
       "Ice      Two Types    2363.500000  134.500000\n",
       "Normal   One Type     1460.166667  148.750000\n",
       "         Two Types    1356.900000  121.400000\n",
       "Poison   One Type     1447.600000  109.300000\n",
       "         Two Types    1894.000000  124.750000\n",
       "Psychic  One Type     2049.571429  118.285714\n",
       "         Two Types    1505.000000   75.000000\n",
       "Rock     Two Types    1588.111111   96.888889\n",
       "Water    One Type     1389.666667   98.500000\n",
       "         Two Types    2164.700000  141.500000"
      ]
     },
     "execution_count": 132,
     "metadata": {},
     "output_type": "execute_result"
    }
   ],
   "source": [
    "pd.pivot_table(df_go, index=['Type 1','have_type_2'], values=['Max CP', 'Max HP'])"
   ]
  },
  {
   "cell_type": "code",
   "execution_count": 133,
   "metadata": {
    "collapsed": false
   },
   "outputs": [
    {
     "data": {
      "text/plain": [
       "<matplotlib.axes._subplots.AxesSubplot at 0x11659b810>"
      ]
     },
     "execution_count": 133,
     "metadata": {},
     "output_type": "execute_result"
    },
    {
     "data": {
      "image/png": "[encoded data removed]",
      "text/plain": [
       "<matplotlib.figure.Figure at 0x120b11550>"
      ]
     },
     "metadata": {},
     "output_type": "display_data"
    }
   ],
   "source": [
    "df_go['have_type_2'] = df_go['Type 2'].map({'No_Type_2':'One Type'})\n",
    "df_go['have_type_2']=df_go['have_type_2'].fillna('Two Types')\n",
    "\n",
    " \n",
    "max_hp = df_go['Max HP'].max()\n",
    "max_cp = df_go['Max CP'].max()\n",
    "\n",
    "df_go['Norm_Max CP'] = df_go['Max CP'] / max_cp\n",
    "df_go['Norm_Max HP'] = df_go['Max HP'] / max_hp\n",
    "\n",
    " \n",
    "\n",
    "df_go['have_type_2']=df_go['have_type_2'].astype('category')\n",
    "\n",
    "df_go['Strength'] = (df_go['Norm_Max CP']+df_go['Norm_Max HP'])/2\n",
    " \n",
    "pd.pivot_table(df_go, index=['have_type_2'], values=['Strength'], aggfunc=np.sum).plot(kind=\"bar\")"
   ]
  },
  {
   "cell_type": "code",
   "execution_count": 134,
   "metadata": {
    "collapsed": false
   },
   "outputs": [
    {
     "data": {
      "text/html": [
       "<div>\n",
       "<table border=\"1\" class=\"dataframe\">\n",
       "  <thead>\n",
       "    <tr style=\"text-align: right;\">\n",
       "      <th></th>\n",
       "      <th>Norm_Max CP</th>\n",
       "      <th>Norm_Max HP</th>\n",
       "    </tr>\n",
       "    <tr>\n",
       "      <th>have_type_2</th>\n",
       "      <th></th>\n",
       "      <th></th>\n",
       "    </tr>\n",
       "  </thead>\n",
       "  <tbody>\n",
       "    <tr>\n",
       "      <th>One Type</th>\n",
       "      <td>0.368195</td>\n",
       "      <td>0.271359</td>\n",
       "    </tr>\n",
       "    <tr>\n",
       "      <th>Two Types</th>\n",
       "      <td>0.422430</td>\n",
       "      <td>0.285923</td>\n",
       "    </tr>\n",
       "  </tbody>\n",
       "</table>\n",
       "</div>"
      ],
      "text/plain": [
       "             Norm_Max CP  Norm_Max HP\n",
       "have_type_2                          \n",
       "One Type        0.368195     0.271359\n",
       "Two Types       0.422430     0.285923"
      ]
     },
     "execution_count": 134,
     "metadata": {},
     "output_type": "execute_result"
    }
   ],
   "source": [
    "pd.pivot_table(df_go, index=['have_type_2'], values=['Norm_Max CP','Norm_Max HP'], aggfunc=np.mean)"
   ]
  },
  {
   "cell_type": "code",
   "execution_count": null,
   "metadata": {
    "collapsed": true
   },
   "outputs": [],
   "source": []
  }
 ],
 "metadata": {
  "kernelspec": {
   "display_name": "Python 2",
   "language": "python",
   "name": "python2"
  },
  "language_info": {
   "codemirror_mode": {
    "name": "ipython",
    "version": 2
   },
   "file_extension": ".py",
   "mimetype": "text/x-python",
   "name": "python",
   "nbconvert_exporter": "python",
   "pygments_lexer": "ipython2",
   "version": "2.7.12"
  }
 },
 "nbformat": 4,
 "nbformat_minor": 0
}
