{
 "cells": [
  {
   "cell_type": "code",
   "execution_count": 1,
   "metadata": {
    "collapsed": true
   },
   "outputs": [],
   "source": [
    "import pandas as pd\n",
    "import numpy as np\n",
    "import matplotlib.pyplot as plt\n",
    "from scipy.stats import norm, uniform\n",
    "%matplotlib inline\n",
    "\n",
    "pd.set_option(\"display.max_columns\", 100)"
   ]
  },
  {
   "cell_type": "markdown",
   "metadata": {},
   "source": [
    "# Predicting USA Election 2016"
   ]
  },
  {
   "cell_type": "markdown",
   "metadata": {},
   "source": [
    "Let's see what we can predict about today's vote!\n",
    "\n",
    "First, we need an overview of how the system works. Each state has a weighting which is based to some extent on its population size, this is called the Electoral College. There are 538 Electoral College votes in total, and whomever wins the popular vote in a state gets all the Electoral College votes for that state - with two exceptions, Maine and Nebraska. These two states have a Congressional District system that means that the winner of each Congressional District (2 for Maine and 3 for Nebraska) gets 1 vote for each and then 2 extra votes for whomever won the state overall (so 4 total Electoral College votes for Maine and 5 for Nebraska). Additionally Washington DC has 3 Electoral College votes though it is not a state. \n",
    "\n",
    "It takes 270 votes to win, and if any candidate fails to reach this then there would have to be a House of Representatives vote to decide with each state having one vote (this has happened three times: in 1800, 1824, and 1876). As you no doubt remember, this system means it is also possible to win having lost the nationwide popular vote as George W Bush did in 2000. We will hence go for a state by state model and not consider the nationwide popularity of each candidate."
   ]
  },
  {
   "cell_type": "code",
   "execution_count": 2,
   "metadata": {
    "collapsed": false
   },
   "outputs": [],
   "source": [
    "# You can get some data on the electoral college votes here\n",
    "# This gives a weighting to each state's popular vote\n",
    "\n",
    "electoral_college=pd.read_csv(\"https://raw.githubusercontent.com/chris-taylor/USElection/master/data/electoral-college-votes.csv\", header=None)\n",
    "electoral_college.columns=[\"state\", \"electoral_votes\"]"
   ]
  },
  {
   "cell_type": "code",
   "execution_count": 3,
   "metadata": {
    "collapsed": false,
    "scrolled": true
   },
   "outputs": [],
   "source": [
    "# You can get the latest polling data from 538 here\n",
    "\n",
    "polling=pd.read_csv(\"http://projects.fivethirtyeight.com/general-model/president_general_polls_2016.csv\")"
   ]
  },
  {
   "cell_type": "code",
   "execution_count": 5,
   "metadata": {
    "collapsed": false
   },
   "outputs": [
    {
     "data": {
      "text/html": [
       "<div>\n",
       "<table border=\"1\" class=\"dataframe\">\n",
       "  <thead>\n",
       "    <tr style=\"text-align: right;\">\n",
       "      <th></th>\n",
       "      <th>cycle</th>\n",
       "      <th>branch</th>\n",
       "      <th>type</th>\n",
       "      <th>matchup</th>\n",
       "      <th>forecastdate</th>\n",
       "      <th>state</th>\n",
       "      <th>startdate</th>\n",
       "      <th>enddate</th>\n",
       "      <th>pollster</th>\n",
       "      <th>grade</th>\n",
       "      <th>samplesize</th>\n",
       "      <th>population</th>\n",
       "      <th>poll_wt</th>\n",
       "      <th>rawpoll_clinton</th>\n",
       "      <th>rawpoll_trump</th>\n",
       "      <th>rawpoll_johnson</th>\n",
       "      <th>rawpoll_mcmullin</th>\n",
       "      <th>adjpoll_clinton</th>\n",
       "      <th>adjpoll_trump</th>\n",
       "      <th>adjpoll_johnson</th>\n",
       "      <th>adjpoll_mcmullin</th>\n",
       "      <th>multiversions</th>\n",
       "      <th>url</th>\n",
       "      <th>poll_id</th>\n",
       "      <th>question_id</th>\n",
       "      <th>createddate</th>\n",
       "      <th>timestamp</th>\n",
       "    </tr>\n",
       "  </thead>\n",
       "  <tbody>\n",
       "    <tr>\n",
       "      <th>8</th>\n",
       "      <td>2016</td>\n",
       "      <td>President</td>\n",
       "      <td>polls-plus</td>\n",
       "      <td>Clinton vs. Trump vs. Johnson</td>\n",
       "      <td>11/8/16</td>\n",
       "      <td>New Mexico</td>\n",
       "      <td>11/6/2016</td>\n",
       "      <td>11/6/2016</td>\n",
       "      <td>Zia Poll</td>\n",
       "      <td>NaN</td>\n",
       "      <td>8439.0</td>\n",
       "      <td>lv</td>\n",
       "      <td>4.609492</td>\n",
       "      <td>46.0</td>\n",
       "      <td>44.0</td>\n",
       "      <td>6.0</td>\n",
       "      <td>NaN</td>\n",
       "      <td>44.89859</td>\n",
       "      <td>41.69639</td>\n",
       "      <td>8.038537</td>\n",
       "      <td>NaN</td>\n",
       "      <td>NaN</td>\n",
       "      <td>http://projects.fivethirtyeight.com.s3.amazona...</td>\n",
       "      <td>48614</td>\n",
       "      <td>76158</td>\n",
       "      <td>11/7/16</td>\n",
       "      <td>01:41:47  8 Nov 2016</td>\n",
       "    </tr>\n",
       "    <tr>\n",
       "      <th>13</th>\n",
       "      <td>2016</td>\n",
       "      <td>President</td>\n",
       "      <td>polls-plus</td>\n",
       "      <td>Clinton vs. Trump vs. Johnson</td>\n",
       "      <td>11/8/16</td>\n",
       "      <td>Virginia</td>\n",
       "      <td>11/3/2016</td>\n",
       "      <td>11/4/2016</td>\n",
       "      <td>Public Policy Polling</td>\n",
       "      <td>B+</td>\n",
       "      <td>1238.0</td>\n",
       "      <td>lv</td>\n",
       "      <td>3.923524</td>\n",
       "      <td>48.0</td>\n",
       "      <td>43.0</td>\n",
       "      <td>1.0</td>\n",
       "      <td>NaN</td>\n",
       "      <td>47.51307</td>\n",
       "      <td>42.33414</td>\n",
       "      <td>2.137212</td>\n",
       "      <td>NaN</td>\n",
       "      <td>NaN</td>\n",
       "      <td>http://www.publicpolicypolling.com/pdf/2015/PP...</td>\n",
       "      <td>48349</td>\n",
       "      <td>75743</td>\n",
       "      <td>11/4/16</td>\n",
       "      <td>01:41:47  8 Nov 2016</td>\n",
       "    </tr>\n",
       "    <tr>\n",
       "      <th>15</th>\n",
       "      <td>2016</td>\n",
       "      <td>President</td>\n",
       "      <td>polls-plus</td>\n",
       "      <td>Clinton vs. Trump vs. Johnson</td>\n",
       "      <td>11/8/16</td>\n",
       "      <td>Iowa</td>\n",
       "      <td>11/1/2016</td>\n",
       "      <td>11/4/2016</td>\n",
       "      <td>Selzer &amp; Company</td>\n",
       "      <td>A+</td>\n",
       "      <td>800.0</td>\n",
       "      <td>lv</td>\n",
       "      <td>3.842234</td>\n",
       "      <td>39.0</td>\n",
       "      <td>46.0</td>\n",
       "      <td>6.0</td>\n",
       "      <td>NaN</td>\n",
       "      <td>39.48663</td>\n",
       "      <td>45.53610</td>\n",
       "      <td>5.956656</td>\n",
       "      <td>NaN</td>\n",
       "      <td>NaN</td>\n",
       "      <td>http://www.desmoinesregister.com/story/news/po...</td>\n",
       "      <td>48470</td>\n",
       "      <td>75957</td>\n",
       "      <td>11/5/16</td>\n",
       "      <td>01:41:47  8 Nov 2016</td>\n",
       "    </tr>\n",
       "    <tr>\n",
       "      <th>17</th>\n",
       "      <td>2016</td>\n",
       "      <td>President</td>\n",
       "      <td>polls-plus</td>\n",
       "      <td>Clinton vs. Trump vs. Johnson</td>\n",
       "      <td>11/8/16</td>\n",
       "      <td>Wisconsin</td>\n",
       "      <td>10/26/2016</td>\n",
       "      <td>10/31/2016</td>\n",
       "      <td>Marquette University</td>\n",
       "      <td>A</td>\n",
       "      <td>1255.0</td>\n",
       "      <td>lv</td>\n",
       "      <td>3.789957</td>\n",
       "      <td>46.0</td>\n",
       "      <td>40.0</td>\n",
       "      <td>4.0</td>\n",
       "      <td>NaN</td>\n",
       "      <td>46.17167</td>\n",
       "      <td>40.96359</td>\n",
       "      <td>2.739735</td>\n",
       "      <td>NaN</td>\n",
       "      <td>NaN</td>\n",
       "      <td>https://twitter.com/MULawPoll</td>\n",
       "      <td>48095</td>\n",
       "      <td>75264</td>\n",
       "      <td>11/2/16</td>\n",
       "      <td>01:41:47  8 Nov 2016</td>\n",
       "    </tr>\n",
       "    <tr>\n",
       "      <th>18</th>\n",
       "      <td>2016</td>\n",
       "      <td>President</td>\n",
       "      <td>polls-plus</td>\n",
       "      <td>Clinton vs. Trump vs. Johnson</td>\n",
       "      <td>11/8/16</td>\n",
       "      <td>North Carolina</td>\n",
       "      <td>11/4/2016</td>\n",
       "      <td>11/6/2016</td>\n",
       "      <td>Siena College</td>\n",
       "      <td>A</td>\n",
       "      <td>800.0</td>\n",
       "      <td>lv</td>\n",
       "      <td>3.774139</td>\n",
       "      <td>44.0</td>\n",
       "      <td>44.0</td>\n",
       "      <td>3.0</td>\n",
       "      <td>NaN</td>\n",
       "      <td>44.26522</td>\n",
       "      <td>45.03691</td>\n",
       "      <td>2.221380</td>\n",
       "      <td>NaN</td>\n",
       "      <td>NaN</td>\n",
       "      <td>http://www.nytimes.com/2016/11/08/upshot/trump...</td>\n",
       "      <td>48524</td>\n",
       "      <td>76066</td>\n",
       "      <td>11/7/16</td>\n",
       "      <td>01:41:47  8 Nov 2016</td>\n",
       "    </tr>\n",
       "  </tbody>\n",
       "</table>\n",
       "</div>"
      ],
      "text/plain": [
       "    cycle     branch        type                        matchup forecastdate  \\\n",
       "8    2016  President  polls-plus  Clinton vs. Trump vs. Johnson      11/8/16   \n",
       "13   2016  President  polls-plus  Clinton vs. Trump vs. Johnson      11/8/16   \n",
       "15   2016  President  polls-plus  Clinton vs. Trump vs. Johnson      11/8/16   \n",
       "17   2016  President  polls-plus  Clinton vs. Trump vs. Johnson      11/8/16   \n",
       "18   2016  President  polls-plus  Clinton vs. Trump vs. Johnson      11/8/16   \n",
       "\n",
       "             state   startdate     enddate               pollster grade  \\\n",
       "8       New Mexico   11/6/2016   11/6/2016               Zia Poll   NaN   \n",
       "13        Virginia   11/3/2016   11/4/2016  Public Policy Polling    B+   \n",
       "15            Iowa   11/1/2016   11/4/2016       Selzer & Company    A+   \n",
       "17       Wisconsin  10/26/2016  10/31/2016   Marquette University     A   \n",
       "18  North Carolina   11/4/2016   11/6/2016          Siena College     A   \n",
       "\n",
       "    samplesize population   poll_wt  rawpoll_clinton  rawpoll_trump  \\\n",
       "8       8439.0         lv  4.609492             46.0           44.0   \n",
       "13      1238.0         lv  3.923524             48.0           43.0   \n",
       "15       800.0         lv  3.842234             39.0           46.0   \n",
       "17      1255.0         lv  3.789957             46.0           40.0   \n",
       "18       800.0         lv  3.774139             44.0           44.0   \n",
       "\n",
       "    rawpoll_johnson  rawpoll_mcmullin  adjpoll_clinton  adjpoll_trump  \\\n",
       "8               6.0               NaN         44.89859       41.69639   \n",
       "13              1.0               NaN         47.51307       42.33414   \n",
       "15              6.0               NaN         39.48663       45.53610   \n",
       "17              4.0               NaN         46.17167       40.96359   \n",
       "18              3.0               NaN         44.26522       45.03691   \n",
       "\n",
       "    adjpoll_johnson  adjpoll_mcmullin multiversions  \\\n",
       "8          8.038537               NaN           NaN   \n",
       "13         2.137212               NaN           NaN   \n",
       "15         5.956656               NaN           NaN   \n",
       "17         2.739735               NaN           NaN   \n",
       "18         2.221380               NaN           NaN   \n",
       "\n",
       "                                                  url  poll_id  question_id  \\\n",
       "8   http://projects.fivethirtyeight.com.s3.amazona...    48614        76158   \n",
       "13  http://www.publicpolicypolling.com/pdf/2015/PP...    48349        75743   \n",
       "15  http://www.desmoinesregister.com/story/news/po...    48470        75957   \n",
       "17                      https://twitter.com/MULawPoll    48095        75264   \n",
       "18  http://www.nytimes.com/2016/11/08/upshot/trump...    48524        76066   \n",
       "\n",
       "   createddate             timestamp  \n",
       "8      11/7/16  01:41:47  8 Nov 2016  \n",
       "13     11/4/16  01:41:47  8 Nov 2016  \n",
       "15     11/5/16  01:41:47  8 Nov 2016  \n",
       "17     11/2/16  01:41:47  8 Nov 2016  \n",
       "18     11/7/16  01:41:47  8 Nov 2016  "
      ]
     },
     "execution_count": 5,
     "metadata": {},
     "output_type": "execute_result"
    }
   ],
   "source": [
    "# This polling data includes national polls but let's just look at the state data\n",
    "\n",
    "polling2=polling.loc[~polling[\"state\"].str.contains(\"U.S.\"),:]\n",
    "polling2.head()"
   ]
  },
  {
   "cell_type": "code",
   "execution_count": 6,
   "metadata": {
    "collapsed": false
   },
   "outputs": [],
   "source": [
    "# Let's just look at the most recent poll for each state (this is something you want to look more into)\n",
    "\n",
    "polling2=polling2.sort_values(by=[\"state\", \"enddate\"], ascending=False)\n",
    "polling3=polling2.drop_duplicates(subset=\"state\")"
   ]
  },
  {
   "cell_type": "code",
   "execution_count": 7,
   "metadata": {
    "collapsed": false
   },
   "outputs": [],
   "source": [
    "# Perform a Monte Carlo simulation for eg 1000 elections in each state, where I have set a normal distribution\n",
    "# on the polling numbers (which are in percentages) with a mean of the poll results and a \n",
    "# fixed standard deviation on every poll (so a number I just made up - you will want to look more \n",
    "# into this to see if you can vary it by state, perhaps based on an historical analysis of polls in the dataset)\n",
    "\n",
    "random_seeds=uniform.rvs(loc=0, scale=1000, size=100, random_state=538).astype(int)\n",
    "results_total=pd.DataFrame(columns=[\"simulation_number\",\"clinton_results\", \"trump_results\", \"state\"])\n",
    "i=0\n",
    "for index,row in polling3.iterrows():\n",
    "    # Simulate Clinton\n",
    "    clinton_prob=row[\"rawpoll_clinton\"]\n",
    "    mean_clinton, std_clinton = clinton_prob, 5\n",
    "    results_clinton=norm.rvs(mean_clinton, std_clinton, 1000, random_state=random_seeds[i])\n",
    "    results_clinton_df=pd.DataFrame(results_clinton).reset_index()\n",
    "    results_clinton_df.columns=[\"simulation_number\", \"clinton_results\"]\n",
    "    # Simulate Trump\n",
    "    trump_prob=row[\"rawpoll_trump\"]\n",
    "    mean_trump, std_trump = trump_prob, 5\n",
    "    results_trump=norm.rvs(mean_trump, std_trump, 1000, random_state=random_seeds[i+1])    \n",
    "    results_trump_df=pd.DataFrame(results_trump).reset_index()\n",
    "    results_trump_df.columns=[\"simulation_number\", \"trump_results\"]\n",
    "    # Put them together\n",
    "    results_both=pd.merge(results_clinton_df, results_trump_df, on=\"simulation_number\")\n",
    "    results_both[\"state\"]=row[\"state\"]\n",
    "    results_total=pd.concat([results_total, results_both], ignore_index=True)\n",
    "    i=i+1"
   ]
  },
  {
   "cell_type": "code",
   "execution_count": 8,
   "metadata": {
    "collapsed": false,
    "scrolled": true
   },
   "outputs": [],
   "source": [
    "# This calculates who won which state under the simulations, and then how many electoral college votes\n",
    "# that implies will go to the winner for that particular simulation\n",
    "\n",
    "results_total[\"winner\"]=np.nan\n",
    "results_total[\"winner\"]=np.where(results_total[\"clinton_results\"]>results_total[\"trump_results\"], \"Clinton\", \"Trump\")\n",
    "results_total2=pd.merge(results_total, electoral_college, on=\"state\", how=\"left\")\n",
    "results_total2[\"trump_ec\"]=np.where(results_total2[\"winner\"]==\"Trump\", results_total2[\"electoral_votes\"], 0)\n",
    "results_total2[\"clinton_ec\"]=np.where(results_total2[\"winner\"]==\"Clinton\", results_total2[\"electoral_votes\"], 0)"
   ]
  },
  {
   "cell_type": "code",
   "execution_count": 9,
   "metadata": {
    "collapsed": false
   },
   "outputs": [],
   "source": [
    "# Calculates how many electoral college votes each candidate wins for each of the simulations\n",
    "\n",
    "trump_electoral_votes=results_total2.groupby([\"simulation_number\"])[\"trump_ec\"].sum().reset_index()\n",
    "clinton_electoral_votes=results_total2.groupby([\"simulation_number\"])[\"clinton_ec\"].sum().reset_index()\n",
    "total_electoral_votes=pd.merge(trump_electoral_votes, clinton_electoral_votes, on=\"simulation_number\")"
   ]
  },
  {
   "cell_type": "code",
   "execution_count": 10,
   "metadata": {
    "collapsed": false,
    "scrolled": false
   },
   "outputs": [
    {
     "data": {
      "text/plain": [
       "Clinton    0.896\n",
       "Trump      0.104\n",
       "Name: winner, dtype: float64"
      ]
     },
     "execution_count": 10,
     "metadata": {},
     "output_type": "execute_result"
    }
   ],
   "source": [
    "# Returns the percentage probability for each candidate to win based on how many of the simulations they won\n",
    "\n",
    "total_electoral_votes[\"winner\"]=np.where(total_electoral_votes[\"clinton_ec\"]>total_electoral_votes[\"trump_ec\"], \"Clinton\", \"Trump\")\n",
    "total_electoral_votes[\"winner\"].value_counts(normalize=True)"
   ]
  },
  {
   "cell_type": "markdown",
   "metadata": {},
   "source": [
    "Check these to see how your prediction compares!\n",
    "\n",
    "- [538](http://projects.fivethirtyeight.com/2016-election-forecast)\n",
    "- [NY Times](http://www.nytimes.com/interactive/2016/upshot/presidential-polls-forecast.html)\n",
    "- [Washington Post](https://www.washingtonpost.com/2016-election-results/us-presidential-race/)\n",
    "- [BuzzFeed](https://www.buzzfeed.com/franciswhittaker/make-america-goat-again?bffbuknews&utm_term=.pfp1mWrlX#.sueExwGR6)"
   ]
  },
  {
   "cell_type": "markdown",
   "metadata": {},
   "source": [
    "Some things about this prediction which you could aim to improve:\n",
    "- I only looked at the most recent poll for each state\n",
    "- I assumed a fixed standard deviation for each state and for each candidate, with no justification, and no consideration of historical trends\n",
    "- I did not consider the quality of the poll, whether in terms of the number of people polled or the reputation of the pollster\n",
    "- I did not consider third party candidates (Gary Johnson is the Libertarian candidate, and Jill Stein is the Green candidate)\n",
    "- I forgot to deal with Nebraska and Maine!\n",
    "- I didn't deal with ties, strictly you need 270 votes to win\n",
    "- I didn't explore extra terms from 538 in their table, such as what type of poll it is and what the adjusted poll\n",
    "numbers mean (take a look at the 538 website to see what they have on this)"
   ]
  },
  {
   "cell_type": "code",
   "execution_count": 11,
   "metadata": {
    "collapsed": false,
    "scrolled": true
   },
   "outputs": [
    {
     "data": {
      "image/png": "[encoded data removed]",
      "text/plain": [
       "<matplotlib.figure.Figure at 0x1140e9610>"
      ]
     },
     "metadata": {},
     "output_type": "display_data"
    }
   ],
   "source": [
    "# Plot to show the distribution of total electoral college votes in the simulations\n",
    "\n",
    "plt.hist(total_electoral_votes[\"clinton_ec\"], color=\"blue\", normed=True, bins=100, alpha=0.8)\n",
    "plt.hist(total_electoral_votes[\"trump_ec\"], color=\"red\", normed=True, bins=100, alpha=0.8)\n",
    "plt.show()"
   ]
  },
  {
   "cell_type": "markdown",
   "metadata": {},
   "source": [
    "Bonus! You can visualise the results on a map in python. Maps tend to be pretty awkward in python which is why we tend to use Tableau, but I've done most of it for you here so you can focus on the fun. There is a topo-JSON file in the repo you can read in to map US states. You just need to `conda install vincent` in your terminal."
   ]
  },
  {
   "cell_type": "code",
   "execution_count": 12,
   "metadata": {
    "collapsed": false
   },
   "outputs": [],
   "source": [
    "# Just going to visualise one simulation picked at random\n",
    "\n",
    "state_data=results_total2.loc[results_total2[\"simulation_number\"]==0,:]\n",
    "state_data=state_data[[\"state\", \"winner\"]]\n",
    "mapping={\"Clinton\":1, \"Trump\":0}\n",
    "state_data[\"winner\"]=state_data[\"winner\"].map(mapping)"
   ]
  },
  {
   "cell_type": "code",
   "execution_count": 13,
   "metadata": {
    "collapsed": false
   },
   "outputs": [
    {
     "data": {
      "text/html": [
       "\n",
       "           <script>\n",
       "               \n",
       "                function vct_load_lib(url, callback){\n",
       "                      if(typeof d3 !== 'undefined' &&\n",
       "                         url === 'http://d3js.org/d3.v3.min.js'){\n",
       "                        callback()\n",
       "                      }\n",
       "                      var s = document.createElement('script');\n",
       "                      s.src = url;\n",
       "                      s.async = true;\n",
       "                      s.onreadystatechange = s.onload = callback;\n",
       "                      s.onerror = function(){\n",
       "                        console.warn(\"failed to load library \" + url);\n",
       "                        };\n",
       "                      document.getElementsByTagName(\"head\")[0].appendChild(s);\n",
       "                };\n",
       "                var vincent_event = new CustomEvent(\n",
       "                  \"vincent_libs_loaded\",\n",
       "                  {bubbles: true, cancelable: true}\n",
       "                );\n",
       "                \n",
       "               function load_all_libs(){\n",
       "                  console.log('Loading Vincent libs...')\n",
       "                  vct_load_lib('http://d3js.org/d3.v3.min.js', function(){\n",
       "                  vct_load_lib('http://d3js.org/d3.geo.projection.v0.min.js', function(){\n",
       "                  vct_load_lib('http://wrobstory.github.io/d3-cloud/d3.layout.cloud.js', function(){\n",
       "                  vct_load_lib('http://wrobstory.github.io/vega/vega.v1.3.3.js', function(){\n",
       "                  window.dispatchEvent(vincent_event);\n",
       "                  });\n",
       "                  });\n",
       "                  });\n",
       "                  });\n",
       "               };\n",
       "               if(typeof define === \"function\" && define.amd){\n",
       "                    if (window['d3'] === undefined ||\n",
       "                        window['topojson'] === undefined){\n",
       "                        require.config(\n",
       "                            {paths: {\n",
       "                              d3: 'http://d3js.org/d3.v3.min',\n",
       "                              topojson: 'http://d3js.org/topojson.v1.min'\n",
       "                              }\n",
       "                            }\n",
       "                          );\n",
       "                        require([\"d3\"], function(d3){\n",
       "                            console.log('Loading Vincent from require.js...')\n",
       "                            window.d3 = d3;\n",
       "                            require([\"topojson\"], function(topojson){\n",
       "                                window.topojson = topojson;\n",
       "                                load_all_libs();\n",
       "                            });\n",
       "                        });\n",
       "                    } else {\n",
       "                        load_all_libs();\n",
       "                    };\n",
       "               }else{\n",
       "                    console.log('Require.js not found, loading manually...')\n",
       "                    load_all_libs();\n",
       "               };\n",
       "\n",
       "           </script>"
      ],
      "text/plain": [
       "<IPython.core.display.HTML object>"
      ]
     },
     "metadata": {},
     "output_type": "display_data"
    }
   ],
   "source": [
    "# This is a library which can do some mapping quite nicely, though\n",
    "# it doesn't seem to be well maintained and doesn't have particularly good documentation\n",
    "# conda install vincent to get it\n",
    "\n",
    "import vincent\n",
    "vincent.initialize_notebook()"
   ]
  },
  {
   "cell_type": "markdown",
   "metadata": {},
   "source": [
    "We read in a local file we have on US states and we set the map up to read the winner column against the\n",
    "state name (which it can understand directly). I set the color scheme up to show Red and Blue.\n",
    "It's interesting that so many states can be red and still the blues win, that's down to the electoral colleges.\n",
    "Try seeing what you can map, eg the most common scenarios or some kind of average and perhaps you can show gradients\n",
    "of colours depending on how likely a state is to be won by a party. This way you can highlight swing states like Florida and in the end you can make your most likely prediction and see what the results are. \n",
    "\n",
    "So your output should be:\n",
    "- an overall victor\n",
    "- a number of electoral college votes\n",
    "- a set of states with victors for each state\n",
    "\n",
    "Organised as you like: just a prediction (i.e. most likely outcome), or a percentage likelihood, or some different scenarios. Point is just that you have those predictions to compare to the real results when they come out some time on Wednesday morning!"
   ]
  },
  {
   "cell_type": "code",
   "execution_count": 14,
   "metadata": {
    "collapsed": false
   },
   "outputs": [
    {
     "data": {
      "text/html": [
       "<div id=\"vis3ee82b41e4134d38b8dd469fa6baf6fd\"></div>\n",
       "<script>\n",
       "   ( function() {\n",
       "     var _do_plot = function() {\n",
       "       if (typeof vg === 'undefined') {\n",
       "         window.addEventListener('vincent_libs_loaded', _do_plot)\n",
       "         return;\n",
       "       }\n",
       "       vg.parse.spec({\"axes\": [], \"data\": [{\"name\": \"table\", \"values\": [{\"x\": \"Wyoming\", \"y\": 0}, {\"x\": \"Wisconsin\", \"y\": 0}, {\"x\": \"West Virginia\", \"y\": 0}, {\"x\": \"Washington\", \"y\": 1}, {\"x\": \"Virginia\", \"y\": 1}, {\"x\": \"Vermont\", \"y\": 1}, {\"x\": \"Utah\", \"y\": 0}, {\"x\": \"Texas\", \"y\": 0}, {\"x\": \"Tennessee\", \"y\": 0}, {\"x\": \"South Dakota\", \"y\": 1}, {\"x\": \"South Carolina\", \"y\": 0}, {\"x\": \"Rhode Island\", \"y\": 1}, {\"x\": \"Pennsylvania\", \"y\": 0}, {\"x\": \"Oregon\", \"y\": 1}, {\"x\": \"Oklahoma\", \"y\": 0}, {\"x\": \"Ohio\", \"y\": 1}, {\"x\": \"North Dakota\", \"y\": 0}, {\"x\": \"North Carolina\", \"y\": 0}, {\"x\": \"New York\", \"y\": 1}, {\"x\": \"New Mexico\", \"y\": 0}, {\"x\": \"New Jersey\", \"y\": 1}, {\"x\": \"New Hampshire\", \"y\": 0}, {\"x\": \"Nevada\", \"y\": 0}, {\"x\": \"Nebraska CD-3\", \"y\": 0}, {\"x\": \"Nebraska CD-2\", \"y\": 1}, {\"x\": \"Nebraska CD-1\", \"y\": 0}, {\"x\": \"Nebraska\", \"y\": 0}, {\"x\": \"Montana\", \"y\": 0}, {\"x\": \"Missouri\", \"y\": 0}, {\"x\": \"Mississippi\", \"y\": 0}, {\"x\": \"Minnesota\", \"y\": 1}, {\"x\": \"Michigan\", \"y\": 1}, {\"x\": \"Massachusetts\", \"y\": 1}, {\"x\": \"Maryland\", \"y\": 1}, {\"x\": \"Maine CD-2\", \"y\": 0}, {\"x\": \"Maine CD-1\", \"y\": 1}, {\"x\": \"Maine\", \"y\": 1}, {\"x\": \"Louisiana\", \"y\": 0}, {\"x\": \"Kentucky\", \"y\": 0}, {\"x\": \"Kansas\", \"y\": 0}, {\"x\": \"Iowa\", \"y\": 0}, {\"x\": \"Indiana\", \"y\": 1}, {\"x\": \"Illinois\", \"y\": 1}, {\"x\": \"Idaho\", \"y\": 0}, {\"x\": \"Hawaii\", \"y\": 1}, {\"x\": \"Georgia\", \"y\": 1}, {\"x\": \"Florida\", \"y\": 1}, {\"x\": \"District of Columbia\", \"y\": 1}, {\"x\": \"Delaware\", \"y\": 1}, {\"x\": \"Connecticut\", \"y\": 0}, {\"x\": \"Colorado\", \"y\": 0}, {\"x\": \"California\", \"y\": 1}, {\"x\": \"Arkansas\", \"y\": 0}, {\"x\": \"Arizona\", \"y\": 0}, {\"x\": \"Alaska\", \"y\": 0}, {\"x\": \"Alabama\", \"y\": 0}]}, {\"format\": {\"feature\": \"us_states.geo\", \"type\": \"topojson\"}, \"name\": \"states\", \"transform\": [{\"as\": \"value\", \"default\": \"noval\", \"key\": \"data.properties.NAME\", \"type\": \"zip\", \"with\": \"table\", \"withKey\": \"data.x\"}, {\"test\": \"d.path!='noval' && d.value!='noval'\", \"type\": \"filter\"}, {\"projection\": \"albersUsa\", \"scale\": 1100, \"translate\": [480, 250], \"type\": \"geopath\", \"value\": \"data\"}], \"url\": \"us_states.topo.json\"}], \"height\": 500, \"legends\": [], \"marks\": [{\"from\": {\"data\": \"states\"}, \"properties\": {\"enter\": {\"path\": {\"field\": \"path\"}, \"stroke\": {\"value\": \"#000000\"}}, \"update\": {\"fill\": {\"field\": \"value.data.y\", \"scale\": \"color\"}}}, \"type\": \"path\"}], \"padding\": \"auto\", \"scales\": [{\"domain\": [0, 1.0], \"name\": \"color\", \"range\": [\"#67001f\", \"#b2182b\", \"#d6604d\", \"#f4a582\", \"#fddbc7\", \"#f7f7f7\", \"#d1e5f0\", \"#92c5de\", \"#4393c3\", \"#2166ac\", \"#053061\"], \"type\": \"quantize\"}], \"width\": 960}, function(chart) {\n",
       "         chart({el: \"#vis3ee82b41e4134d38b8dd469fa6baf6fd\"}).update();\n",
       "       });\n",
       "     };\n",
       "     _do_plot();\n",
       "   })();\n",
       "</script>\n",
       "<style>.vega canvas {width: 100%;}</style>\n",
       "        "
      ],
      "text/plain": [
       "<IPython.core.display.HTML object>"
      ]
     },
     "metadata": {},
     "output_type": "display_data"
    }
   ],
   "source": [
    "state_topo=\"us_states.topo.json\"\n",
    "geo_data = [{'name': 'states','url': state_topo,'feature': 'us_states.geo'}]\n",
    "\n",
    "vis = vincent.Map(data=state_data, geo_data=geo_data, scale=1100, data_bind='winner', data_key='state', \n",
    "                  map_key={'states': 'properties.NAME'}, projection='albersUsa')\n",
    "vis.scales['color'].type = 'threshold'\n",
    "vis.scales['color'].domain=[0,1]\n",
    "vis.rebind(column='winner', brew='RdBu')\n",
    "vis.display()"
   ]
  },
  {
   "cell_type": "code",
   "execution_count": null,
   "metadata": {
    "collapsed": false
   },
   "outputs": [],
   "source": [
    "# Please make sure whatever you end up with for your model, you output your predictions to a csv before the results\n",
    "# are announced! Then we can compare it to the real outcome! Also try saving your map(s) as an image!\n"
   ]
  },
  {
   "cell_type": "code",
   "execution_count": null,
   "metadata": {
    "collapsed": true
   },
   "outputs": [],
   "source": [
    "# Suggest you make copies of the code above into cells below that you then tweak, you can always then refer back to\n",
    "# the original code above when thinking about how to adjust your model\n"
   ]
  },
  {
   "cell_type": "markdown",
   "metadata": {
    "collapsed": true
   },
   "source": [
    "# My attempt - an aftermath analysis"
   ]
  },
  {
   "cell_type": "code",
   "execution_count": 4,
   "metadata": {
    "collapsed": false
   },
   "outputs": [
    {
     "name": "stdout",
     "output_type": "stream",
     "text": [
      "<class 'pandas.core.frame.DataFrame'>\n",
      "RangeIndex: 12624 entries, 0 to 12623\n",
      "Data columns (total 27 columns):\n",
      "cycle               12624 non-null int64\n",
      "branch              12624 non-null object\n",
      "type                12624 non-null object\n",
      "matchup             12624 non-null object\n",
      "forecastdate        12624 non-null object\n",
      "state               12624 non-null object\n",
      "startdate           12624 non-null object\n",
      "enddate             12624 non-null object\n",
      "pollster            12624 non-null object\n",
      "grade               11337 non-null object\n",
      "samplesize          12621 non-null float64\n",
      "population          12624 non-null object\n",
      "poll_wt             12624 non-null float64\n",
      "rawpoll_clinton     12624 non-null float64\n",
      "rawpoll_trump       12624 non-null float64\n",
      "rawpoll_johnson     8397 non-null float64\n",
      "rawpoll_mcmullin    90 non-null float64\n",
      "adjpoll_clinton     12624 non-null float64\n",
      "adjpoll_trump       12624 non-null float64\n",
      "adjpoll_johnson     8397 non-null float64\n",
      "adjpoll_mcmullin    90 non-null float64\n",
      "multiversions       36 non-null object\n",
      "url                 12621 non-null object\n",
      "poll_id             12624 non-null int64\n",
      "question_id         12624 non-null int64\n",
      "createddate         12624 non-null object\n",
      "timestamp           12624 non-null object\n",
      "dtypes: float64(10), int64(3), object(14)\n",
      "memory usage: 2.6+ MB\n"
     ]
    }
   ],
   "source": [
    "polling.info()"
   ]
  },
  {
   "cell_type": "markdown",
   "metadata": {},
   "source": [
    "### Explore Data"
   ]
  },
  {
   "cell_type": "code",
   "execution_count": 5,
   "metadata": {
    "collapsed": false
   },
   "outputs": [
    {
     "data": {
      "text/plain": [
       "2016    12624\n",
       "Name: cycle, dtype: int64"
      ]
     },
     "execution_count": 5,
     "metadata": {},
     "output_type": "execute_result"
    }
   ],
   "source": [
    "polling.cycle.value_counts()"
   ]
  },
  {
   "cell_type": "code",
   "execution_count": 6,
   "metadata": {
    "collapsed": false
   },
   "outputs": [
    {
     "data": {
      "text/plain": [
       "President    12624\n",
       "Name: branch, dtype: int64"
      ]
     },
     "execution_count": 6,
     "metadata": {},
     "output_type": "execute_result"
    }
   ],
   "source": [
    "polling.branch.value_counts()"
   ]
  },
  {
   "cell_type": "markdown",
   "metadata": {},
   "source": [
    "From the above we know that the polling data is only for 2016 presidential election. Therefore these 2 columns can be dropped. The next 3 column are polling type, matchup and forecast_date which are not entirely useful hence will also be dropped. This is because it is difficult to comprehend or quantify polling types. Matchup is also unnecessary as we know that it would be either Trump or Hillary. forecast_date represents the election date so it is the same for every entry."
   ]
  },
  {
   "cell_type": "code",
   "execution_count": 4,
   "metadata": {
    "collapsed": false
   },
   "outputs": [],
   "source": [
    "polling['startdate'] = pd.to_datetime(polling['startdate'])\n",
    "polling['enddate'] = pd.to_datetime(polling['enddate'])\n",
    "polling['forecastdate'] = pd.to_datetime(polling['forecastdate'])\n",
    "polling['duration'] = polling['enddate'] - polling['startdate']\n",
    "polling['days_before'] = polling['forecastdate'] - polling['enddate']"
   ]
  },
  {
   "cell_type": "markdown",
   "metadata": {},
   "source": [
    "The data type of date entries are changed fron 'strings' to 'datetime'. A duration of the poll was then calculated by calculating the difference between the start date and end date. This could be important as the longer the poll is the more uncertain it would be. Therefore we will have to think about a strategy to reflect this truth.\n",
    "\n",
    "Grading of the poll is also important as it directly reflects how good a poll was. There are some missing values hence they would have to be filled in. It is possible to fill those missing values with the most common value obtained by that particular pollster. There are 10 individual polling grades and they will be transformed into numbers for easier manipulation."
   ]
  },
  {
   "cell_type": "code",
   "execution_count": 5,
   "metadata": {
    "collapsed": false
   },
   "outputs": [],
   "source": [
    "grade_dic = {'A+':1, 'A':2, 'A-':3, 'B+':4, 'B':5, 'B-':6, 'C+':7, 'C':8, 'C-':9, 'D':10}\n",
    "polling['grade_numeric'] = polling['grade'].map(grade_dic)"
   ]
  },
  {
   "cell_type": "code",
   "execution_count": 6,
   "metadata": {
    "collapsed": true
   },
   "outputs": [],
   "source": [
    "polling['grade_numeric'] = polling['grade_numeric'].fillna(polling.groupby(['pollster'])['grade_numeric'].median())"
   ]
  },
  {
   "cell_type": "markdown",
   "metadata": {},
   "source": [
    "However it seems that non-graded poll happens across entire organisations hence NaN values can not be filled this way. Other ways to fill in the missing values are experimented."
   ]
  },
  {
   "cell_type": "code",
   "execution_count": 21,
   "metadata": {
    "collapsed": false
   },
   "outputs": [
    {
     "data": {
      "text/plain": [
       "grade\n",
       "A      944.320755\n",
       "A+     732.904762\n",
       "A-     759.158525\n",
       "B      973.647873\n",
       "B+     896.382353\n",
       "B-    1263.183099\n",
       "C      717.448276\n",
       "C+     971.542683\n",
       "C-    1870.363636\n",
       "D     1096.928571\n",
       "Name: samplesize, dtype: float64"
      ]
     },
     "execution_count": 21,
     "metadata": {},
     "output_type": "execute_result"
    }
   ],
   "source": [
    "polling.groupby(['grade'])['samplesize'].mean()"
   ]
  },
  {
   "cell_type": "code",
   "execution_count": 24,
   "metadata": {
    "collapsed": false
   },
   "outputs": [
    {
     "data": {
      "image/png": "[encoded data removed]",
      "text/plain": [
       "<matplotlib.figure.Figure at 0x117b9ee50>"
      ]
     },
     "metadata": {},
     "output_type": "display_data"
    }
   ],
   "source": [
    "polling['grade'].value_counts().plot(kind='bar', figsize=(8,6))\n",
    "plt.show()"
   ]
  },
  {
   "cell_type": "markdown",
   "metadata": {},
   "source": [
    "We know that the median value should lie at about 6300th data point. By observing the plot above it can be concluded that if the polls are ranked (and in fact gradings are ordinal), the median would be a 'B'. Hence the missing values would be filled in such manner."
   ]
  },
  {
   "cell_type": "code",
   "execution_count": 7,
   "metadata": {
    "collapsed": true
   },
   "outputs": [],
   "source": [
    "polling['grade_numeric'] = polling['grade_numeric'].fillna(5)"
   ]
  },
  {
   "cell_type": "markdown",
   "metadata": {},
   "source": [
    "Some sample sizes are missing too. Further investigation would be carried out"
   ]
  },
  {
   "cell_type": "code",
   "execution_count": 26,
   "metadata": {
    "collapsed": false
   },
   "outputs": [
    {
     "data": {
      "text/html": [
       "<div>\n",
       "<table border=\"1\" class=\"dataframe\">\n",
       "  <thead>\n",
       "    <tr style=\"text-align: right;\">\n",
       "      <th></th>\n",
       "      <th>cycle</th>\n",
       "      <th>branch</th>\n",
       "      <th>type</th>\n",
       "      <th>matchup</th>\n",
       "      <th>forecastdate</th>\n",
       "      <th>state</th>\n",
       "      <th>startdate</th>\n",
       "      <th>enddate</th>\n",
       "      <th>pollster</th>\n",
       "      <th>grade</th>\n",
       "      <th>samplesize</th>\n",
       "      <th>population</th>\n",
       "      <th>poll_wt</th>\n",
       "      <th>rawpoll_clinton</th>\n",
       "      <th>rawpoll_trump</th>\n",
       "      <th>rawpoll_johnson</th>\n",
       "      <th>rawpoll_mcmullin</th>\n",
       "      <th>adjpoll_clinton</th>\n",
       "      <th>adjpoll_trump</th>\n",
       "      <th>adjpoll_johnson</th>\n",
       "      <th>adjpoll_mcmullin</th>\n",
       "      <th>multiversions</th>\n",
       "      <th>url</th>\n",
       "      <th>poll_id</th>\n",
       "      <th>question_id</th>\n",
       "      <th>createddate</th>\n",
       "      <th>timestamp</th>\n",
       "      <th>duration</th>\n",
       "      <th>grade_numeric</th>\n",
       "    </tr>\n",
       "  </thead>\n",
       "  <tbody>\n",
       "    <tr>\n",
       "      <th>1801</th>\n",
       "      <td>2016</td>\n",
       "      <td>President</td>\n",
       "      <td>polls-plus</td>\n",
       "      <td>Clinton vs. Trump vs. Johnson</td>\n",
       "      <td>11/8/16</td>\n",
       "      <td>Illinois</td>\n",
       "      <td>2016-07-11</td>\n",
       "      <td>2016-07-12</td>\n",
       "      <td>Basswood Research</td>\n",
       "      <td>C+</td>\n",
       "      <td>NaN</td>\n",
       "      <td>lv</td>\n",
       "      <td>0.014828</td>\n",
       "      <td>46.4</td>\n",
       "      <td>32.5</td>\n",
       "      <td>5.2</td>\n",
       "      <td>NaN</td>\n",
       "      <td>49.62926</td>\n",
       "      <td>36.34003</td>\n",
       "      <td>2.120584</td>\n",
       "      <td>NaN</td>\n",
       "      <td>NaN</td>\n",
       "      <td>http://www.chicagobusiness.com/article/2016072...</td>\n",
       "      <td>44748</td>\n",
       "      <td>68432</td>\n",
       "      <td>8/2/16</td>\n",
       "      <td>09:35:33  8 Nov 2016</td>\n",
       "      <td>1 days</td>\n",
       "      <td>7.0</td>\n",
       "    </tr>\n",
       "    <tr>\n",
       "      <th>6023</th>\n",
       "      <td>2016</td>\n",
       "      <td>President</td>\n",
       "      <td>now-cast</td>\n",
       "      <td>Clinton vs. Trump vs. Johnson</td>\n",
       "      <td>11/8/16</td>\n",
       "      <td>Illinois</td>\n",
       "      <td>2016-07-11</td>\n",
       "      <td>2016-07-12</td>\n",
       "      <td>Basswood Research</td>\n",
       "      <td>C+</td>\n",
       "      <td>NaN</td>\n",
       "      <td>lv</td>\n",
       "      <td>0.014828</td>\n",
       "      <td>46.4</td>\n",
       "      <td>32.5</td>\n",
       "      <td>5.2</td>\n",
       "      <td>NaN</td>\n",
       "      <td>49.63698</td>\n",
       "      <td>36.39108</td>\n",
       "      <td>2.212135</td>\n",
       "      <td>NaN</td>\n",
       "      <td>NaN</td>\n",
       "      <td>http://www.chicagobusiness.com/article/2016072...</td>\n",
       "      <td>44748</td>\n",
       "      <td>68432</td>\n",
       "      <td>8/2/16</td>\n",
       "      <td>09:24:53  8 Nov 2016</td>\n",
       "      <td>1 days</td>\n",
       "      <td>7.0</td>\n",
       "    </tr>\n",
       "    <tr>\n",
       "      <th>10217</th>\n",
       "      <td>2016</td>\n",
       "      <td>President</td>\n",
       "      <td>polls-only</td>\n",
       "      <td>Clinton vs. Trump vs. Johnson</td>\n",
       "      <td>11/8/16</td>\n",
       "      <td>Illinois</td>\n",
       "      <td>2016-07-11</td>\n",
       "      <td>2016-07-12</td>\n",
       "      <td>Basswood Research</td>\n",
       "      <td>C+</td>\n",
       "      <td>NaN</td>\n",
       "      <td>lv</td>\n",
       "      <td>0.014828</td>\n",
       "      <td>46.4</td>\n",
       "      <td>32.5</td>\n",
       "      <td>5.2</td>\n",
       "      <td>NaN</td>\n",
       "      <td>49.63946</td>\n",
       "      <td>36.39749</td>\n",
       "      <td>2.164237</td>\n",
       "      <td>NaN</td>\n",
       "      <td>NaN</td>\n",
       "      <td>http://www.chicagobusiness.com/article/2016072...</td>\n",
       "      <td>44748</td>\n",
       "      <td>68432</td>\n",
       "      <td>8/2/16</td>\n",
       "      <td>09:14:14  8 Nov 2016</td>\n",
       "      <td>1 days</td>\n",
       "      <td>7.0</td>\n",
       "    </tr>\n",
       "  </tbody>\n",
       "</table>\n",
       "</div>"
      ],
      "text/plain": [
       "       cycle     branch        type                        matchup  \\\n",
       "1801    2016  President  polls-plus  Clinton vs. Trump vs. Johnson   \n",
       "6023    2016  President    now-cast  Clinton vs. Trump vs. Johnson   \n",
       "10217   2016  President  polls-only  Clinton vs. Trump vs. Johnson   \n",
       "\n",
       "      forecastdate     state  startdate    enddate           pollster grade  \\\n",
       "1801       11/8/16  Illinois 2016-07-11 2016-07-12  Basswood Research    C+   \n",
       "6023       11/8/16  Illinois 2016-07-11 2016-07-12  Basswood Research    C+   \n",
       "10217      11/8/16  Illinois 2016-07-11 2016-07-12  Basswood Research    C+   \n",
       "\n",
       "       samplesize population   poll_wt  rawpoll_clinton  rawpoll_trump  \\\n",
       "1801          NaN         lv  0.014828             46.4           32.5   \n",
       "6023          NaN         lv  0.014828             46.4           32.5   \n",
       "10217         NaN         lv  0.014828             46.4           32.5   \n",
       "\n",
       "       rawpoll_johnson  rawpoll_mcmullin  adjpoll_clinton  adjpoll_trump  \\\n",
       "1801               5.2               NaN         49.62926       36.34003   \n",
       "6023               5.2               NaN         49.63698       36.39108   \n",
       "10217              5.2               NaN         49.63946       36.39749   \n",
       "\n",
       "       adjpoll_johnson  adjpoll_mcmullin multiversions  \\\n",
       "1801          2.120584               NaN           NaN   \n",
       "6023          2.212135               NaN           NaN   \n",
       "10217         2.164237               NaN           NaN   \n",
       "\n",
       "                                                     url  poll_id  \\\n",
       "1801   http://www.chicagobusiness.com/article/2016072...    44748   \n",
       "6023   http://www.chicagobusiness.com/article/2016072...    44748   \n",
       "10217  http://www.chicagobusiness.com/article/2016072...    44748   \n",
       "\n",
       "       question_id createddate             timestamp  duration  grade_numeric  \n",
       "1801         68432      8/2/16  09:35:33  8 Nov 2016    1 days            7.0  \n",
       "6023         68432      8/2/16  09:24:53  8 Nov 2016    1 days            7.0  \n",
       "10217        68432      8/2/16  09:14:14  8 Nov 2016    1 days            7.0  "
      ]
     },
     "execution_count": 26,
     "metadata": {},
     "output_type": "execute_result"
    }
   ],
   "source": [
    "polling[polling['samplesize'].isnull()]"
   ]
  },
  {
   "cell_type": "code",
   "execution_count": 29,
   "metadata": {
    "collapsed": false
   },
   "outputs": [
    {
     "data": {
      "text/plain": [
       "(180, 29)"
      ]
     },
     "execution_count": 29,
     "metadata": {},
     "output_type": "execute_result"
    }
   ],
   "source": [
    "polling[polling['state'] ==  'Illinois'].shape"
   ]
  },
  {
   "cell_type": "markdown",
   "metadata": {},
   "source": [
    "It turns out this could be an organisational problem where it failed to report sample sizes. Considering Illinois has 180 polling record it would be OK to drop 3."
   ]
  },
  {
   "cell_type": "code",
   "execution_count": 8,
   "metadata": {
    "collapsed": true
   },
   "outputs": [],
   "source": [
    "polling = polling[polling['samplesize'].notnull()]"
   ]
  },
  {
   "cell_type": "markdown",
   "metadata": {},
   "source": [
    "Population and poll_wt are not easy to comprehend hence they will be dropped. Other irrelavent columns such as non-Trump/Hillary records will also be dropped."
   ]
  },
  {
   "cell_type": "code",
   "execution_count": 11,
   "metadata": {
    "collapsed": false
   },
   "outputs": [
    {
     "data": {
      "text/html": [
       "<div>\n",
       "<table border=\"1\" class=\"dataframe\">\n",
       "  <thead>\n",
       "    <tr style=\"text-align: right;\">\n",
       "      <th></th>\n",
       "      <th>state</th>\n",
       "      <th>enddate</th>\n",
       "      <th>samplesize</th>\n",
       "      <th>rawpoll_clinton</th>\n",
       "      <th>rawpoll_trump</th>\n",
       "      <th>duration</th>\n",
       "      <th>grade_numeric</th>\n",
       "      <th>days_before</th>\n",
       "    </tr>\n",
       "  </thead>\n",
       "  <tbody>\n",
       "    <tr>\n",
       "      <th>0</th>\n",
       "      <td>U.S.</td>\n",
       "      <td>2016-11-06</td>\n",
       "      <td>2220.0</td>\n",
       "      <td>47.00</td>\n",
       "      <td>43.00</td>\n",
       "      <td>3 days</td>\n",
       "      <td>1.0</td>\n",
       "      <td>2 days</td>\n",
       "    </tr>\n",
       "    <tr>\n",
       "      <th>1</th>\n",
       "      <td>U.S.</td>\n",
       "      <td>2016-11-07</td>\n",
       "      <td>26574.0</td>\n",
       "      <td>38.03</td>\n",
       "      <td>35.69</td>\n",
       "      <td>6 days</td>\n",
       "      <td>5.0</td>\n",
       "      <td>1 days</td>\n",
       "    </tr>\n",
       "    <tr>\n",
       "      <th>2</th>\n",
       "      <td>U.S.</td>\n",
       "      <td>2016-11-06</td>\n",
       "      <td>2195.0</td>\n",
       "      <td>42.00</td>\n",
       "      <td>39.00</td>\n",
       "      <td>4 days</td>\n",
       "      <td>3.0</td>\n",
       "      <td>2 days</td>\n",
       "    </tr>\n",
       "    <tr>\n",
       "      <th>3</th>\n",
       "      <td>U.S.</td>\n",
       "      <td>2016-11-07</td>\n",
       "      <td>3677.0</td>\n",
       "      <td>45.00</td>\n",
       "      <td>41.00</td>\n",
       "      <td>3 days</td>\n",
       "      <td>5.0</td>\n",
       "      <td>1 days</td>\n",
       "    </tr>\n",
       "    <tr>\n",
       "      <th>4</th>\n",
       "      <td>U.S.</td>\n",
       "      <td>2016-11-06</td>\n",
       "      <td>16639.0</td>\n",
       "      <td>47.00</td>\n",
       "      <td>43.00</td>\n",
       "      <td>3 days</td>\n",
       "      <td>6.0</td>\n",
       "      <td>2 days</td>\n",
       "    </tr>\n",
       "  </tbody>\n",
       "</table>\n",
       "</div>"
      ],
      "text/plain": [
       "  state    enddate  samplesize  rawpoll_clinton  rawpoll_trump  duration  \\\n",
       "0  U.S. 2016-11-06      2220.0            47.00          43.00    3 days   \n",
       "1  U.S. 2016-11-07     26574.0            38.03          35.69    6 days   \n",
       "2  U.S. 2016-11-06      2195.0            42.00          39.00    4 days   \n",
       "3  U.S. 2016-11-07      3677.0            45.00          41.00    3 days   \n",
       "4  U.S. 2016-11-06     16639.0            47.00          43.00    3 days   \n",
       "\n",
       "   grade_numeric  days_before  \n",
       "0            1.0       2 days  \n",
       "1            5.0       1 days  \n",
       "2            3.0       2 days  \n",
       "3            5.0       1 days  \n",
       "4            6.0       2 days  "
      ]
     },
     "execution_count": 11,
     "metadata": {},
     "output_type": "execute_result"
    }
   ],
   "source": [
    "polling_cleaned = polling[['state', 'enddate', 'samplesize', 'rawpoll_clinton', 'rawpoll_trump','duration', 'grade_numeric','days_before']]\n",
    "polling_cleaned.head()"
   ]
  },
  {
   "cell_type": "code",
   "execution_count": 10,
   "metadata": {
    "collapsed": false
   },
   "outputs": [
    {
     "name": "stdout",
     "output_type": "stream",
     "text": [
      "<class 'pandas.core.frame.DataFrame'>\n",
      "Int64Index: 12621 entries, 0 to 12623\n",
      "Data columns (total 8 columns):\n",
      "state              12621 non-null object\n",
      "enddate            12621 non-null datetime64[ns]\n",
      "samplesize         12621 non-null float64\n",
      "rawpoll_clinton    12621 non-null float64\n",
      "rawpoll_trump      12621 non-null float64\n",
      "duration           12621 non-null timedelta64[ns]\n",
      "grade_numeric      12621 non-null float64\n",
      "days_before        12621 non-null timedelta64[ns]\n",
      "dtypes: datetime64[ns](1), float64(4), object(1), timedelta64[ns](2)\n",
      "memory usage: 887.4+ KB\n"
     ]
    }
   ],
   "source": [
    "polling_cleaned.info()"
   ]
  },
  {
   "cell_type": "markdown",
   "metadata": {},
   "source": [
    "The intention of this study is to find out the voters' preference in each individual state hence the entries with U.S. in the state column will be dropped."
   ]
  },
  {
   "cell_type": "code",
   "execution_count": 10,
   "metadata": {
    "collapsed": false
   },
   "outputs": [
    {
     "name": "stdout",
     "output_type": "stream",
     "text": [
      "<class 'pandas.core.frame.DataFrame'>\n",
      "Int64Index: 9303 entries, 8 to 12623\n",
      "Data columns (total 8 columns):\n",
      "state              9303 non-null object\n",
      "enddate            9303 non-null datetime64[ns]\n",
      "samplesize         9303 non-null float64\n",
      "rawpoll_clinton    9303 non-null float64\n",
      "rawpoll_trump      9303 non-null float64\n",
      "duration           9303 non-null timedelta64[ns]\n",
      "grade_numeric      9303 non-null float64\n",
      "days_before        9303 non-null timedelta64[ns]\n",
      "dtypes: datetime64[ns](1), float64(4), object(1), timedelta64[ns](2)\n",
      "memory usage: 654.1+ KB\n"
     ]
    }
   ],
   "source": [
    "polling_state = polling_cleaned[polling_cleaned['state'] != 'U.S.']\n",
    "polling_state.info()"
   ]
  },
  {
   "cell_type": "code",
   "execution_count": 12,
   "metadata": {
    "collapsed": false
   },
   "outputs": [],
   "source": [
    "# Convert timedeltas into floats denoting number of days\n",
    "\n",
    "polling_state.loc[:,'duration'] = (polling_state['duration'].apply(lambda x:x.total_seconds())+86400)/86400"
   ]
  },
  {
   "cell_type": "code",
   "execution_count": 13,
   "metadata": {
    "collapsed": false
   },
   "outputs": [],
   "source": [
    "polling_state.loc[:,'days_before'] = polling_state['days_before'].apply(lambda x:x.total_seconds())/86400"
   ]
  },
  {
   "cell_type": "code",
   "execution_count": 14,
   "metadata": {
    "collapsed": false
   },
   "outputs": [
    {
     "data": {
      "text/html": [
       "<div>\n",
       "<table border=\"1\" class=\"dataframe\">\n",
       "  <thead>\n",
       "    <tr style=\"text-align: right;\">\n",
       "      <th></th>\n",
       "      <th>state</th>\n",
       "      <th>enddate</th>\n",
       "      <th>samplesize</th>\n",
       "      <th>rawpoll_clinton</th>\n",
       "      <th>rawpoll_trump</th>\n",
       "      <th>duration</th>\n",
       "      <th>grade_numeric</th>\n",
       "      <th>days_before</th>\n",
       "    </tr>\n",
       "  </thead>\n",
       "  <tbody>\n",
       "    <tr>\n",
       "      <th>8</th>\n",
       "      <td>New Mexico</td>\n",
       "      <td>2016-11-06</td>\n",
       "      <td>8439.0</td>\n",
       "      <td>46.0</td>\n",
       "      <td>44.0</td>\n",
       "      <td>1.0</td>\n",
       "      <td>5.0</td>\n",
       "      <td>2.0</td>\n",
       "    </tr>\n",
       "    <tr>\n",
       "      <th>13</th>\n",
       "      <td>Virginia</td>\n",
       "      <td>2016-11-04</td>\n",
       "      <td>1238.0</td>\n",
       "      <td>48.0</td>\n",
       "      <td>43.0</td>\n",
       "      <td>2.0</td>\n",
       "      <td>4.0</td>\n",
       "      <td>4.0</td>\n",
       "    </tr>\n",
       "    <tr>\n",
       "      <th>15</th>\n",
       "      <td>Iowa</td>\n",
       "      <td>2016-11-04</td>\n",
       "      <td>800.0</td>\n",
       "      <td>39.0</td>\n",
       "      <td>46.0</td>\n",
       "      <td>4.0</td>\n",
       "      <td>1.0</td>\n",
       "      <td>4.0</td>\n",
       "    </tr>\n",
       "    <tr>\n",
       "      <th>17</th>\n",
       "      <td>Wisconsin</td>\n",
       "      <td>2016-10-31</td>\n",
       "      <td>1255.0</td>\n",
       "      <td>46.0</td>\n",
       "      <td>40.0</td>\n",
       "      <td>6.0</td>\n",
       "      <td>2.0</td>\n",
       "      <td>8.0</td>\n",
       "    </tr>\n",
       "    <tr>\n",
       "      <th>18</th>\n",
       "      <td>North Carolina</td>\n",
       "      <td>2016-11-06</td>\n",
       "      <td>800.0</td>\n",
       "      <td>44.0</td>\n",
       "      <td>44.0</td>\n",
       "      <td>3.0</td>\n",
       "      <td>2.0</td>\n",
       "      <td>2.0</td>\n",
       "    </tr>\n",
       "  </tbody>\n",
       "</table>\n",
       "</div>"
      ],
      "text/plain": [
       "             state    enddate  samplesize  rawpoll_clinton  rawpoll_trump  \\\n",
       "8       New Mexico 2016-11-06      8439.0             46.0           44.0   \n",
       "13        Virginia 2016-11-04      1238.0             48.0           43.0   \n",
       "15            Iowa 2016-11-04       800.0             39.0           46.0   \n",
       "17       Wisconsin 2016-10-31      1255.0             46.0           40.0   \n",
       "18  North Carolina 2016-11-06       800.0             44.0           44.0   \n",
       "\n",
       "    duration  grade_numeric  days_before  \n",
       "8        1.0            5.0          2.0  \n",
       "13       2.0            4.0          4.0  \n",
       "15       4.0            1.0          4.0  \n",
       "17       6.0            2.0          8.0  \n",
       "18       3.0            2.0          2.0  "
      ]
     },
     "execution_count": 14,
     "metadata": {},
     "output_type": "execute_result"
    }
   ],
   "source": [
    "polling_state.head()"
   ]
  },
  {
   "cell_type": "markdown",
   "metadata": {},
   "source": [
    "### Visualisations"
   ]
  },
  {
   "cell_type": "code",
   "execution_count": 41,
   "metadata": {
    "collapsed": false
   },
   "outputs": [
    {
     "data": {
      "image/png": "[encoded data removed]",
      "text/plain": [
       "<matplotlib.figure.Figure at 0x11915d950>"
      ]
     },
     "metadata": {},
     "output_type": "display_data"
    },
    {
     "name": "stdout",
     "output_type": "stream",
     "text": [
      "41.2764527572\n",
      "8.6744192458\n"
     ]
    }
   ],
   "source": [
    "polling_state.rawpoll_clinton.hist(figsize=(8,6))\n",
    "plt.show()\n",
    "print polling_state.rawpoll_clinton.mean()\n",
    "print polling_state.rawpoll_clinton.std()"
   ]
  },
  {
   "cell_type": "code",
   "execution_count": 43,
   "metadata": {
    "collapsed": false
   },
   "outputs": [
    {
     "data": {
      "image/png": "[encoded data removed]",
      "text/plain": [
       "<matplotlib.figure.Figure at 0x1196b4c10>"
      ]
     },
     "metadata": {},
     "output_type": "display_data"
    },
    {
     "name": "stdout",
     "output_type": "stream",
     "text": [
      "39.9001354402\n",
      "8.7625313321\n"
     ]
    }
   ],
   "source": [
    "polling_state.rawpoll_trump.hist(figsize=(8,6))\n",
    "plt.show()\n",
    "print polling_state.rawpoll_trump.mean()\n",
    "print polling_state.rawpoll_trump.std()"
   ]
  },
  {
   "cell_type": "markdown",
   "metadata": {},
   "source": [
    "Without differentiating between states, histograms were plotted to see the distribution of voters preference. It can be seen that the the shape is nearly symmertric and the means lie at about high 30s to low 40s. With a standard deviation of 8 we immediately know that the distributions (assumed to be normal) are not significantly different. This reflects the common impression that Hillary is leading slightly but not by much."
   ]
  },
  {
   "cell_type": "code",
   "execution_count": 37,
   "metadata": {
    "collapsed": false
   },
   "outputs": [
    {
     "data": {
      "text/plain": [
       "<matplotlib.axes._subplots.AxesSubplot at 0x1190b8e50>"
      ]
     },
     "execution_count": 37,
     "metadata": {},
     "output_type": "execute_result"
    },
    {
     "data": {
      "image/png": "[encoded data removed]",
      "text/plain": [
       "<matplotlib.figure.Figure at 0x1190bb590>"
      ]
     },
     "metadata": {},
     "output_type": "display_data"
    }
   ],
   "source": [
    "polling_state.groupby(['enddate'])['rawpoll_clinton'].mean().plot(figsize=(8,6))"
   ]
  },
  {
   "cell_type": "code",
   "execution_count": 38,
   "metadata": {
    "collapsed": false
   },
   "outputs": [
    {
     "data": {
      "text/plain": [
       "<matplotlib.axes._subplots.AxesSubplot at 0x117f57910>"
      ]
     },
     "execution_count": 38,
     "metadata": {},
     "output_type": "execute_result"
    },
    {
     "data": {
      "image/png": "[encoded data removed]",
      "text/plain": [
       "<matplotlib.figure.Figure at 0x117fc1650>"
      ]
     },
     "metadata": {},
     "output_type": "display_data"
    }
   ],
   "source": [
    "polling_state.groupby(['enddate'])['rawpoll_trump'].mean().plot(figsize=(8,6))"
   ]
  },
  {
   "cell_type": "markdown",
   "metadata": {},
   "source": [
    "Again the above plots were created with all the states taken into consideration hence it is possible to observe the big variances within a short period of time. It can be seen that there were relatively few polls conducted in early 2016 and as the election approaches the frequency increased. It is also interesting to see that as time goes by the variance in voters opinion seem to decrease as more voters have set their minds on candidates. Without vigrous hypothesis testing, it seems that Trump's supporters increases in numbers towards the end of the election "
   ]
  },
  {
   "cell_type": "code",
   "execution_count": 51,
   "metadata": {
    "collapsed": false
   },
   "outputs": [
    {
     "data": {
      "text/plain": [
       "<matplotlib.axes._subplots.AxesSubplot at 0x119b8a1d0>"
      ]
     },
     "execution_count": 51,
     "metadata": {},
     "output_type": "execute_result"
    },
    {
     "data": {
      "image/png": "[encoded data removed]",
      "text/plain": [
       "<matplotlib.figure.Figure at 0x119afac90>"
      ]
     },
     "metadata": {},
     "output_type": "display_data"
    }
   ],
   "source": [
    "pd.pivot_table(polling_state, index=['state'], values=['rawpoll_clinton','rawpoll_trump']).plot(kind='bar',figsize=(15,10))"
   ]
  },
  {
   "cell_type": "markdown",
   "metadata": {},
   "source": [
    "The plot above states the supporter distribution across the states. It is immediately obvious that Clinton is leading in District of Columbia whilst Trump is winning in Nebraska. However other than that there are no obvious clue of who is going to win the electon."
   ]
  },
  {
   "cell_type": "code",
   "execution_count": 52,
   "metadata": {
    "collapsed": false
   },
   "outputs": [
    {
     "data": {
      "text/plain": [
       "<matplotlib.axes._subplots.AxesSubplot at 0x1196d7290>"
      ]
     },
     "execution_count": 52,
     "metadata": {},
     "output_type": "execute_result"
    },
    {
     "data": {
      "image/png": "[encoded data removed]",
      "text/plain": [
       "<matplotlib.figure.Figure at 0x1198f37d0>"
      ]
     },
     "metadata": {},
     "output_type": "display_data"
    }
   ],
   "source": [
    "pd.pivot_table(polling_state, index=['state'], values=['rawpoll_clinton','rawpoll_trump'], aggfunc=np.std).plot(kind='bar',figsize=(15,10))"
   ]
  },
  {
   "cell_type": "markdown",
   "metadata": {},
   "source": [
    "Looking deeper into the stadard deviation of data, it is realised that some data has no standard deviation. This could be due to the fact that through out the election campaign only 1 poll had been conducted. Hence this has to be noted if any further preprocessing is to be carried out. Comparing to the standard deviation calcualted earlier (without state differentiation), it seems that the within state standard deviation is much lower (under 8). It is possible to observe a spike on District of Columbia for Clinton though."
   ]
  },
  {
   "cell_type": "code",
   "execution_count": 56,
   "metadata": {
    "collapsed": false
   },
   "outputs": [
    {
     "data": {
      "text/plain": [
       "<matplotlib.axes._subplots.AxesSubplot at 0x11988eb90>"
      ]
     },
     "execution_count": 56,
     "metadata": {},
     "output_type": "execute_result"
    },
    {
     "data": {
      "image/png": "[encoded data removed]",
      "text/plain": [
       "<matplotlib.figure.Figure at 0x117811cd0>"
      ]
     },
     "metadata": {},
     "output_type": "display_data"
    }
   ],
   "source": [
    "fig = plt.figure(figsize=(16,6))\n",
    "ax1 = fig.add_subplot(121)\n",
    "ax2 = fig.add_subplot(122)\n",
    "polling_state[polling_state['state']=='District of Columbia']['rawpoll_clinton'].hist(ax=ax1)\n",
    "polling_state[polling_state['state']=='District of Columbia'].plot(x='enddate', y='rawpoll_clinton',ax=ax2)"
   ]
  },
  {
   "cell_type": "markdown",
   "metadata": {},
   "source": [
    "The spike in standard deviation is mainly caused by a heavily skewed distribution favoring Clinton. When a distribution is heavily skewed, means and standard deviations would fail to serve as good descriptions. Another plot shows that the highly Clinton - favored polls took place towards the election which suggests there could be an increase of Clinton supporters in the state. However one should note that the variance was high as well and this would reduce the confidence of such concusion."
   ]
  },
  {
   "cell_type": "code",
   "execution_count": 28,
   "metadata": {
    "collapsed": false
   },
   "outputs": [
    {
     "data": {
      "image/png": "[encoded data removed]",
      "text/plain": [
       "<matplotlib.figure.Figure at 0x116b83f10>"
      ]
     },
     "metadata": {},
     "output_type": "display_data"
    },
    {
     "data": {
      "text/plain": [
       "count    9303.000000\n",
       "mean      735.622057\n",
       "std       628.068884\n",
       "min        35.000000\n",
       "25%       387.000000\n",
       "50%       594.000000\n",
       "75%       887.000000\n",
       "max      8746.000000\n",
       "Name: samplesize, dtype: float64"
      ]
     },
     "execution_count": 28,
     "metadata": {},
     "output_type": "execute_result"
    }
   ],
   "source": [
    "polling_state.samplesize.hist(figsize=(8,6), bins=30)\n",
    "plt.show()\n",
    "polling_state.samplesize.describe()"
   ]
  },
  {
   "cell_type": "markdown",
   "metadata": {},
   "source": [
    "The plot above shows that most polls have a sample size under 1000. However some polls conduct really big sample size of over 8000"
   ]
  },
  {
   "cell_type": "code",
   "execution_count": 29,
   "metadata": {
    "collapsed": false
   },
   "outputs": [
    {
     "data": {
      "image/png": "[encoded data removed]",
      "text/plain": [
       "<matplotlib.figure.Figure at 0x117c41a50>"
      ]
     },
     "metadata": {},
     "output_type": "display_data"
    },
    {
     "data": {
      "text/plain": [
       "count    9303.000000\n",
       "mean        8.384392\n",
       "std         6.361548\n",
       "min         1.000000\n",
       "25%         5.000000\n",
       "50%         7.000000\n",
       "75%         9.000000\n",
       "max        60.000000\n",
       "Name: duration, dtype: float64"
      ]
     },
     "execution_count": 29,
     "metadata": {},
     "output_type": "execute_result"
    }
   ],
   "source": [
    "polling_state.duration.hist(figsize=(8,6), bins=30)\n",
    "plt.show()\n",
    "polling_state.duration.describe()"
   ]
  },
  {
   "cell_type": "markdown",
   "metadata": {},
   "source": [
    "Most polls lasted for less than 10 days."
   ]
  },
  {
   "cell_type": "code",
   "execution_count": 30,
   "metadata": {
    "collapsed": false
   },
   "outputs": [
    {
     "data": {
      "image/png": "[encoded data removed]",
      "text/plain": [
       "<matplotlib.figure.Figure at 0x117f0c410>"
      ]
     },
     "metadata": {},
     "output_type": "display_data"
    },
    {
     "data": {
      "text/plain": [
       "count    9303.000000\n",
       "mean       46.157691\n",
       "std        56.766152\n",
       "min         1.000000\n",
       "25%         8.000000\n",
       "50%        26.000000\n",
       "75%        63.000000\n",
       "max       366.000000\n",
       "Name: days_before, dtype: float64"
      ]
     },
     "execution_count": 30,
     "metadata": {},
     "output_type": "execute_result"
    }
   ],
   "source": [
    "polling_state.days_before.hist(figsize=(8,6), bins=30)\n",
    "plt.show()\n",
    "polling_state.days_before.describe()"
   ]
  },
  {
   "cell_type": "markdown",
   "metadata": {},
   "source": [
    "Tha mjorith of the poll was conducted within 2 months before election time. The ones conducted earlier than that would deem less informative."
   ]
  },
  {
   "cell_type": "markdown",
   "metadata": {},
   "source": [
    "### Combining the poll data for each state\n",
    "\n",
    "In order to perform the Monte Carlo simulation it is necessary to combine all the poll data into a single distribution. However not every poll are equal. This is being reflected by the polling grade, sample size, poll duration and the date that the poll ended. It can be safely assumed that the further away the poll is from the election date, the less informative it is. One solution around this problem is to assign the weights to the different polls. Inevitably this invloves many subjective judgement."
   ]
  },
  {
   "cell_type": "code",
   "execution_count": 25,
   "metadata": {
    "collapsed": false
   },
   "outputs": [
    {
     "data": {
      "text/html": [
       "<div>\n",
       "<table border=\"1\" class=\"dataframe\">\n",
       "  <thead>\n",
       "    <tr style=\"text-align: right;\">\n",
       "      <th></th>\n",
       "      <th>state</th>\n",
       "      <th>enddate</th>\n",
       "      <th>samplesize</th>\n",
       "      <th>rawpoll_clinton</th>\n",
       "      <th>rawpoll_trump</th>\n",
       "      <th>duration</th>\n",
       "      <th>grade_numeric</th>\n",
       "      <th>days_before</th>\n",
       "    </tr>\n",
       "  </thead>\n",
       "  <tbody>\n",
       "    <tr>\n",
       "      <th>8</th>\n",
       "      <td>New Mexico</td>\n",
       "      <td>2016-11-06</td>\n",
       "      <td>8439.0</td>\n",
       "      <td>46.0</td>\n",
       "      <td>44.0</td>\n",
       "      <td>1.0</td>\n",
       "      <td>5.0</td>\n",
       "      <td>2.0</td>\n",
       "    </tr>\n",
       "    <tr>\n",
       "      <th>13</th>\n",
       "      <td>Virginia</td>\n",
       "      <td>2016-11-04</td>\n",
       "      <td>1238.0</td>\n",
       "      <td>48.0</td>\n",
       "      <td>43.0</td>\n",
       "      <td>2.0</td>\n",
       "      <td>4.0</td>\n",
       "      <td>4.0</td>\n",
       "    </tr>\n",
       "    <tr>\n",
       "      <th>15</th>\n",
       "      <td>Iowa</td>\n",
       "      <td>2016-11-04</td>\n",
       "      <td>800.0</td>\n",
       "      <td>39.0</td>\n",
       "      <td>46.0</td>\n",
       "      <td>4.0</td>\n",
       "      <td>1.0</td>\n",
       "      <td>4.0</td>\n",
       "    </tr>\n",
       "    <tr>\n",
       "      <th>17</th>\n",
       "      <td>Wisconsin</td>\n",
       "      <td>2016-10-31</td>\n",
       "      <td>1255.0</td>\n",
       "      <td>46.0</td>\n",
       "      <td>40.0</td>\n",
       "      <td>6.0</td>\n",
       "      <td>2.0</td>\n",
       "      <td>8.0</td>\n",
       "    </tr>\n",
       "    <tr>\n",
       "      <th>18</th>\n",
       "      <td>North Carolina</td>\n",
       "      <td>2016-11-06</td>\n",
       "      <td>800.0</td>\n",
       "      <td>44.0</td>\n",
       "      <td>44.0</td>\n",
       "      <td>3.0</td>\n",
       "      <td>2.0</td>\n",
       "      <td>2.0</td>\n",
       "    </tr>\n",
       "  </tbody>\n",
       "</table>\n",
       "</div>"
      ],
      "text/plain": [
       "             state    enddate  samplesize  rawpoll_clinton  rawpoll_trump  \\\n",
       "8       New Mexico 2016-11-06      8439.0             46.0           44.0   \n",
       "13        Virginia 2016-11-04      1238.0             48.0           43.0   \n",
       "15            Iowa 2016-11-04       800.0             39.0           46.0   \n",
       "17       Wisconsin 2016-10-31      1255.0             46.0           40.0   \n",
       "18  North Carolina 2016-11-06       800.0             44.0           44.0   \n",
       "\n",
       "    duration  grade_numeric  days_before  \n",
       "8        1.0            5.0          2.0  \n",
       "13       2.0            4.0          4.0  \n",
       "15       4.0            1.0          4.0  \n",
       "17       6.0            2.0          8.0  \n",
       "18       3.0            2.0          2.0  "
      ]
     },
     "execution_count": 25,
     "metadata": {},
     "output_type": "execute_result"
    }
   ],
   "source": [
    "polling_state.head()"
   ]
  },
  {
   "cell_type": "code",
   "execution_count": 15,
   "metadata": {
    "collapsed": true
   },
   "outputs": [],
   "source": [
    "from sklearn.preprocessing import MinMaxScaler\n",
    "def get_score(series):\n",
    "    return MinMaxScaler(feature_range=(0.3,1)).fit_transform(series)\n",
    "\n",
    "def sample_score(sample):\n",
    "    if sample < 100:\n",
    "        return 30 #The value of 30 is made up\n",
    "    elif sample < 400:\n",
    "        return 10\n",
    "    elif sample < 1000:\n",
    "        return 5\n",
    "    elif sample < 10000:\n",
    "        return 3\n",
    "    else:\n",
    "        return 1\n",
    "# Information obtained from Wikipedia. (https://en.wikipedia.org/wiki/Sample_size_determination)"
   ]
  },
  {
   "cell_type": "code",
   "execution_count": 27,
   "metadata": {
    "collapsed": false
   },
   "outputs": [
    {
     "name": "stderr",
     "output_type": "stream",
     "text": [
      "//anaconda/lib/python2.7/site-packages/sklearn/preprocessing/data.py:321: DeprecationWarning: Passing 1d arrays as data is deprecated in 0.17 and will raise ValueError in 0.19. Reshape your data either using X.reshape(-1, 1) if your data has a single feature or X.reshape(1, -1) if it contains a single sample.\n",
      "  warnings.warn(DEPRECATION_MSG_1D, DeprecationWarning)\n",
      "//anaconda/lib/python2.7/site-packages/sklearn/preprocessing/data.py:356: DeprecationWarning: Passing 1d arrays as data is deprecated in 0.17 and will raise ValueError in 0.19. Reshape your data either using X.reshape(-1, 1) if your data has a single feature or X.reshape(1, -1) if it contains a single sample.\n",
      "  warnings.warn(DEPRECATION_MSG_1D, DeprecationWarning)\n",
      "//anaconda/lib/python2.7/site-packages/sklearn/preprocessing/data.py:321: DeprecationWarning: Passing 1d arrays as data is deprecated in 0.17 and will raise ValueError in 0.19. Reshape your data either using X.reshape(-1, 1) if your data has a single feature or X.reshape(1, -1) if it contains a single sample.\n",
      "  warnings.warn(DEPRECATION_MSG_1D, DeprecationWarning)\n",
      "//anaconda/lib/python2.7/site-packages/sklearn/preprocessing/data.py:356: DeprecationWarning: Passing 1d arrays as data is deprecated in 0.17 and will raise ValueError in 0.19. Reshape your data either using X.reshape(-1, 1) if your data has a single feature or X.reshape(1, -1) if it contains a single sample.\n",
      "  warnings.warn(DEPRECATION_MSG_1D, DeprecationWarning)\n",
      "//anaconda/lib/python2.7/site-packages/sklearn/preprocessing/data.py:321: DeprecationWarning: Passing 1d arrays as data is deprecated in 0.17 and will raise ValueError in 0.19. Reshape your data either using X.reshape(-1, 1) if your data has a single feature or X.reshape(1, -1) if it contains a single sample.\n",
      "  warnings.warn(DEPRECATION_MSG_1D, DeprecationWarning)\n",
      "//anaconda/lib/python2.7/site-packages/sklearn/preprocessing/data.py:356: DeprecationWarning: Passing 1d arrays as data is deprecated in 0.17 and will raise ValueError in 0.19. Reshape your data either using X.reshape(-1, 1) if your data has a single feature or X.reshape(1, -1) if it contains a single sample.\n",
      "  warnings.warn(DEPRECATION_MSG_1D, DeprecationWarning)\n"
     ]
    }
   ],
   "source": [
    "days_before_score = get_score(-1*polling_state['days_before']) # Multiply by -1 to reverse ranking\n",
    "grade_score = get_score(-1*polling_state['grade_numeric'])\n",
    "duration_score = get_score(-1*polling_state['duration'])\n",
    "confidence = polling_state['samplesize'].apply(sample_score)"
   ]
  },
  {
   "cell_type": "code",
   "execution_count": 35,
   "metadata": {
    "collapsed": false
   },
   "outputs": [
    {
     "name": "stderr",
     "output_type": "stream",
     "text": [
      "//anaconda/lib/python2.7/site-packages/sklearn/preprocessing/data.py:321: DeprecationWarning: Passing 1d arrays as data is deprecated in 0.17 and will raise ValueError in 0.19. Reshape your data either using X.reshape(-1, 1) if your data has a single feature or X.reshape(1, -1) if it contains a single sample.\n",
      "  warnings.warn(DEPRECATION_MSG_1D, DeprecationWarning)\n",
      "//anaconda/lib/python2.7/site-packages/sklearn/preprocessing/data.py:356: DeprecationWarning: Passing 1d arrays as data is deprecated in 0.17 and will raise ValueError in 0.19. Reshape your data either using X.reshape(-1, 1) if your data has a single feature or X.reshape(1, -1) if it contains a single sample.\n",
      "  warnings.warn(DEPRECATION_MSG_1D, DeprecationWarning)\n"
     ]
    }
   ],
   "source": [
    "polling_state['sample_score'] = get_score(-1*confidence)"
   ]
  },
  {
   "cell_type": "code",
   "execution_count": 30,
   "metadata": {
    "collapsed": false
   },
   "outputs": [
    {
     "data": {
      "text/html": [
       "<div>\n",
       "<table border=\"1\" class=\"dataframe\">\n",
       "  <thead>\n",
       "    <tr style=\"text-align: right;\">\n",
       "      <th></th>\n",
       "      <th>state</th>\n",
       "      <th>enddate</th>\n",
       "      <th>samplesize</th>\n",
       "      <th>rawpoll_clinton</th>\n",
       "      <th>rawpoll_trump</th>\n",
       "      <th>duration</th>\n",
       "      <th>grade_numeric</th>\n",
       "      <th>days_before</th>\n",
       "      <th>sample_score</th>\n",
       "      <th>combined_weight</th>\n",
       "    </tr>\n",
       "  </thead>\n",
       "  <tbody>\n",
       "    <tr>\n",
       "      <th>8</th>\n",
       "      <td>New Mexico</td>\n",
       "      <td>2016-11-06</td>\n",
       "      <td>8439.0</td>\n",
       "      <td>0.511111</td>\n",
       "      <td>0.488889</td>\n",
       "      <td>1.0</td>\n",
       "      <td>5.0</td>\n",
       "      <td>2.0</td>\n",
       "      <td>0.300000</td>\n",
       "      <td>9.675792</td>\n",
       "    </tr>\n",
       "    <tr>\n",
       "      <th>13</th>\n",
       "      <td>Virginia</td>\n",
       "      <td>2016-11-04</td>\n",
       "      <td>1238.0</td>\n",
       "      <td>0.527473</td>\n",
       "      <td>0.472527</td>\n",
       "      <td>2.0</td>\n",
       "      <td>4.0</td>\n",
       "      <td>4.0</td>\n",
       "      <td>0.300000</td>\n",
       "      <td>8.227555</td>\n",
       "    </tr>\n",
       "    <tr>\n",
       "      <th>15</th>\n",
       "      <td>Iowa</td>\n",
       "      <td>2016-11-04</td>\n",
       "      <td>800.0</td>\n",
       "      <td>0.458824</td>\n",
       "      <td>0.541176</td>\n",
       "      <td>4.0</td>\n",
       "      <td>1.0</td>\n",
       "      <td>4.0</td>\n",
       "      <td>0.351852</td>\n",
       "      <td>9.031569</td>\n",
       "    </tr>\n",
       "    <tr>\n",
       "      <th>17</th>\n",
       "      <td>Wisconsin</td>\n",
       "      <td>2016-10-31</td>\n",
       "      <td>1255.0</td>\n",
       "      <td>0.534884</td>\n",
       "      <td>0.465116</td>\n",
       "      <td>6.0</td>\n",
       "      <td>2.0</td>\n",
       "      <td>8.0</td>\n",
       "      <td>0.300000</td>\n",
       "      <td>8.783404</td>\n",
       "    </tr>\n",
       "    <tr>\n",
       "      <th>18</th>\n",
       "      <td>North Carolina</td>\n",
       "      <td>2016-11-06</td>\n",
       "      <td>800.0</td>\n",
       "      <td>0.500000</td>\n",
       "      <td>0.500000</td>\n",
       "      <td>3.0</td>\n",
       "      <td>2.0</td>\n",
       "      <td>2.0</td>\n",
       "      <td>0.351852</td>\n",
       "      <td>8.743829</td>\n",
       "    </tr>\n",
       "  </tbody>\n",
       "</table>\n",
       "</div>"
      ],
      "text/plain": [
       "             state    enddate  samplesize  rawpoll_clinton  rawpoll_trump  \\\n",
       "8       New Mexico 2016-11-06      8439.0         0.511111       0.488889   \n",
       "13        Virginia 2016-11-04      1238.0         0.527473       0.472527   \n",
       "15            Iowa 2016-11-04       800.0         0.458824       0.541176   \n",
       "17       Wisconsin 2016-10-31      1255.0         0.534884       0.465116   \n",
       "18  North Carolina 2016-11-06       800.0         0.500000       0.500000   \n",
       "\n",
       "    duration  grade_numeric  days_before  sample_score  combined_weight  \n",
       "8        1.0            5.0          2.0      0.300000         9.675792  \n",
       "13       2.0            4.0          4.0      0.300000         8.227555  \n",
       "15       4.0            1.0          4.0      0.351852         9.031569  \n",
       "17       6.0            2.0          8.0      0.300000         8.783404  \n",
       "18       3.0            2.0          2.0      0.351852         8.743829  "
      ]
     },
     "execution_count": 30,
     "metadata": {},
     "output_type": "execute_result"
    }
   ],
   "source": [
    "polling_state.head()"
   ]
  },
  {
   "cell_type": "code",
   "execution_count": 23,
   "metadata": {
    "collapsed": false
   },
   "outputs": [
    {
     "data": {
      "text/plain": [
       "<matplotlib.collections.PathCollection at 0x11784bbd0>"
      ]
     },
     "execution_count": 23,
     "metadata": {},
     "output_type": "execute_result"
    },
    {
     "data": {
      "image/png": "[encoded data removed]",
      "text/plain": [
       "<matplotlib.figure.Figure at 0x116cce650>"
      ]
     },
     "metadata": {},
     "output_type": "display_data"
    }
   ],
   "source": [
    "plt.scatter(x='samplesize', y='sample_score', data=polling_state) # Quick sanity check to see whether transformation\n",
    "# is carried out properly"
   ]
  },
  {
   "cell_type": "code",
   "execution_count": 144,
   "metadata": {
    "collapsed": true
   },
   "outputs": [],
   "source": [
    "weight = {'days_before':500,\n",
    "          'grade':0,\n",
    "          'duration':0,\n",
    "          'sample':0}\n",
    "# Weighting system made up too."
   ]
  },
  {
   "cell_type": "code",
   "execution_count": 145,
   "metadata": {
    "collapsed": false
   },
   "outputs": [],
   "source": [
    "polling_state['combined_weight'] = (days_before_score**2 + \n",
    "                                   grade_score*weight['grade'] +\n",
    "                                   duration_score*weight['duration'] +\n",
    "                                   polling_state['sample_score']*weight['sample'])"
   ]
  },
  {
   "cell_type": "code",
   "execution_count": 146,
   "metadata": {
    "collapsed": false
   },
   "outputs": [
    {
     "data": {
      "text/plain": [
       "count    9303.000000\n",
       "mean        0.846143\n",
       "std         0.170350\n",
       "min         0.090000\n",
       "25%         0.776330\n",
       "50%         0.906408\n",
       "75%         0.973331\n",
       "max         1.000000\n",
       "Name: combined_weight, dtype: float64"
      ]
     },
     "execution_count": 146,
     "metadata": {},
     "output_type": "execute_result"
    }
   ],
   "source": [
    "polling_state.combined_weight.describe()"
   ]
  },
  {
   "cell_type": "code",
   "execution_count": 147,
   "metadata": {
    "collapsed": false
   },
   "outputs": [],
   "source": [
    "total_point = polling_state['rawpoll_clinton'] + polling_state['rawpoll_trump']\n",
    "polling_state['rawpoll_clinton'] = polling_state['rawpoll_clinton']/total_point\n",
    "polling_state['rawpoll_trump'] = polling_state['rawpoll_trump']/total_point\n",
    "# Make sure sum of columns add to 1"
   ]
  },
  {
   "cell_type": "code",
   "execution_count": 148,
   "metadata": {
    "collapsed": false
   },
   "outputs": [
    {
     "data": {
      "text/html": [
       "<div>\n",
       "<table border=\"1\" class=\"dataframe\">\n",
       "  <thead>\n",
       "    <tr style=\"text-align: right;\">\n",
       "      <th></th>\n",
       "      <th>state</th>\n",
       "      <th>enddate</th>\n",
       "      <th>samplesize</th>\n",
       "      <th>rawpoll_clinton</th>\n",
       "      <th>rawpoll_trump</th>\n",
       "      <th>duration</th>\n",
       "      <th>grade_numeric</th>\n",
       "      <th>days_before</th>\n",
       "      <th>sample_score</th>\n",
       "      <th>combined_weight</th>\n",
       "    </tr>\n",
       "  </thead>\n",
       "  <tbody>\n",
       "    <tr>\n",
       "      <th>8</th>\n",
       "      <td>New Mexico</td>\n",
       "      <td>2016-11-06</td>\n",
       "      <td>8439.0</td>\n",
       "      <td>0.511111</td>\n",
       "      <td>0.488889</td>\n",
       "      <td>1.0</td>\n",
       "      <td>5.0</td>\n",
       "      <td>2.0</td>\n",
       "      <td>1.000000</td>\n",
       "      <td>0.996168</td>\n",
       "    </tr>\n",
       "    <tr>\n",
       "      <th>13</th>\n",
       "      <td>Virginia</td>\n",
       "      <td>2016-11-04</td>\n",
       "      <td>1238.0</td>\n",
       "      <td>0.527473</td>\n",
       "      <td>0.472527</td>\n",
       "      <td>2.0</td>\n",
       "      <td>4.0</td>\n",
       "      <td>4.0</td>\n",
       "      <td>1.000000</td>\n",
       "      <td>0.988526</td>\n",
       "    </tr>\n",
       "    <tr>\n",
       "      <th>15</th>\n",
       "      <td>Iowa</td>\n",
       "      <td>2016-11-04</td>\n",
       "      <td>800.0</td>\n",
       "      <td>0.458824</td>\n",
       "      <td>0.541176</td>\n",
       "      <td>4.0</td>\n",
       "      <td>1.0</td>\n",
       "      <td>4.0</td>\n",
       "      <td>0.948148</td>\n",
       "      <td>0.988526</td>\n",
       "    </tr>\n",
       "    <tr>\n",
       "      <th>17</th>\n",
       "      <td>Wisconsin</td>\n",
       "      <td>2016-10-31</td>\n",
       "      <td>1255.0</td>\n",
       "      <td>0.534884</td>\n",
       "      <td>0.465116</td>\n",
       "      <td>6.0</td>\n",
       "      <td>2.0</td>\n",
       "      <td>8.0</td>\n",
       "      <td>1.000000</td>\n",
       "      <td>0.973331</td>\n",
       "    </tr>\n",
       "    <tr>\n",
       "      <th>18</th>\n",
       "      <td>North Carolina</td>\n",
       "      <td>2016-11-06</td>\n",
       "      <td>800.0</td>\n",
       "      <td>0.500000</td>\n",
       "      <td>0.500000</td>\n",
       "      <td>3.0</td>\n",
       "      <td>2.0</td>\n",
       "      <td>2.0</td>\n",
       "      <td>0.948148</td>\n",
       "      <td>0.996168</td>\n",
       "    </tr>\n",
       "  </tbody>\n",
       "</table>\n",
       "</div>"
      ],
      "text/plain": [
       "             state    enddate  samplesize  rawpoll_clinton  rawpoll_trump  \\\n",
       "8       New Mexico 2016-11-06      8439.0         0.511111       0.488889   \n",
       "13        Virginia 2016-11-04      1238.0         0.527473       0.472527   \n",
       "15            Iowa 2016-11-04       800.0         0.458824       0.541176   \n",
       "17       Wisconsin 2016-10-31      1255.0         0.534884       0.465116   \n",
       "18  North Carolina 2016-11-06       800.0         0.500000       0.500000   \n",
       "\n",
       "    duration  grade_numeric  days_before  sample_score  combined_weight  \n",
       "8        1.0            5.0          2.0      1.000000         0.996168  \n",
       "13       2.0            4.0          4.0      1.000000         0.988526  \n",
       "15       4.0            1.0          4.0      0.948148         0.988526  \n",
       "17       6.0            2.0          8.0      1.000000         0.973331  \n",
       "18       3.0            2.0          2.0      0.948148         0.996168  "
      ]
     },
     "execution_count": 148,
     "metadata": {},
     "output_type": "execute_result"
    }
   ],
   "source": [
    "polling_state.head()"
   ]
  },
  {
   "cell_type": "code",
   "execution_count": 39,
   "metadata": {
    "collapsed": true
   },
   "outputs": [],
   "source": [
    "state = polling_state['state'].unique()"
   ]
  },
  {
   "cell_type": "code",
   "execution_count": 149,
   "metadata": {
    "collapsed": false
   },
   "outputs": [],
   "source": [
    "# Calculate the mean and standard deviation for each state.\n",
    "from __future__ import division\n",
    "state_dict = {}\n",
    "for s in state:\n",
    "    df = polling_state[polling_state['state']==s]\n",
    "    weight = df['combined_weight']/sum(df['combined_weight'])\n",
    "    clinton_mean = np.average(df['rawpoll_clinton'], weights=weight)\n",
    "    trump_mean = np.average(df['rawpoll_trump'], weights=weight)\n",
    "    m = df.shape[0]\n",
    "    clinton_std = np.sqrt(sum(weight*(df['rawpoll_clinton']-clinton_mean)**2)/(sum(weight)-(sum(weight**2)/sum(weight))))\n",
    "    trump_std = np.sqrt(sum(weight*(df['rawpoll_trump']-trump_mean)**2)/(sum(weight)-(sum(weight**2)/sum(weight))))\n",
    "    state_dict[s] = {'clinton_mean':clinton_mean,\n",
    "                     'clinton_std' : clinton_std,\n",
    "                     'trump_mean' : trump_mean,\n",
    "                     'trump_std' : trump_std}\n",
    "    "
   ]
  },
  {
   "cell_type": "code",
   "execution_count": 139,
   "metadata": {
    "collapsed": false
   },
   "outputs": [
    {
     "data": {
      "text/plain": [
       "{'Alabama': {'clinton_mean': 0.36397681363362377,\n",
       "  'clinton_std': 0.069740801995023846,\n",
       "  'trump_mean': 0.63602318636637623,\n",
       "  'trump_std': 0.069740801995023846},\n",
       " 'Alaska': {'clinton_mean': 0.44797157605549165,\n",
       "  'clinton_std': 0.057433802814106739,\n",
       "  'trump_mean': 0.55202842394450824,\n",
       "  'trump_std': 0.057433802814106726},\n",
       " 'Arizona': {'clinton_mean': 0.49749374056345019,\n",
       "  'clinton_std': 0.026397090610297921,\n",
       "  'trump_mean': 0.50250625943654992,\n",
       "  'trump_std': 0.026397090610297918},\n",
       " 'Arkansas': {'clinton_mean': 0.41770553019321838,\n",
       "  'clinton_std': 0.039550243931347581,\n",
       "  'trump_mean': 0.58229446980678168,\n",
       "  'trump_std': 0.039550243931347581},\n",
       " 'California': {'clinton_mean': 0.64584795682423279,\n",
       "  'clinton_std': 0.037111324043423793,\n",
       "  'trump_mean': 0.35415204317576737,\n",
       "  'trump_std': 0.037111324043423786},\n",
       " 'Colorado': {'clinton_mean': 0.53665764360115487,\n",
       "  'clinton_std': 0.038391926688550619,\n",
       "  'trump_mean': 0.46334235639884508,\n",
       "  'trump_std': 0.038391926688550619},\n",
       " 'Connecticut': {'clinton_mean': 0.57764082438140807,\n",
       "  'clinton_std': 0.02650568971620007,\n",
       "  'trump_mean': 0.42235917561859193,\n",
       "  'trump_std': 0.02650568971620006},\n",
       " 'Delaware': {'clinton_mean': 0.57856875343640124,\n",
       "  'clinton_std': 0.040058396896984767,\n",
       "  'trump_mean': 0.42143124656359893,\n",
       "  'trump_std': 0.040058396896984767},\n",
       " 'District of Columbia': {'clinton_mean': 0.84163961049702152,\n",
       "  'clinton_std': 0.12599920773776577,\n",
       "  'trump_mean': 0.15836038950297826,\n",
       "  'trump_std': 0.12599920773776577},\n",
       " 'Florida': {'clinton_mean': 0.50760834508930119,\n",
       "  'clinton_std': 0.028025498304345305,\n",
       "  'trump_mean': 0.49239165491069897,\n",
       "  'trump_std': 0.028025498304345309},\n",
       " 'Georgia': {'clinton_mean': 0.47187783931983218,\n",
       "  'clinton_std': 0.031964478572440336,\n",
       "  'trump_mean': 0.52812216068016771,\n",
       "  'trump_std': 0.031964478572440343},\n",
       " 'Hawaii': {'clinton_mean': 0.64165481016183334,\n",
       "  'clinton_std': 0.039106082753937003,\n",
       "  'trump_mean': 0.35834518983816682,\n",
       "  'trump_std': 0.039106082753936976},\n",
       " 'Idaho': {'clinton_mean': 0.37470084891376937,\n",
       "  'clinton_std': 0.040673332946753939,\n",
       "  'trump_mean': 0.62529915108623046,\n",
       "  'trump_std': 0.040673332946753925},\n",
       " 'Illinois': {'clinton_mean': 0.59367459561320535,\n",
       "  'clinton_std': 0.033998996519596071,\n",
       "  'trump_mean': 0.40632540438679465,\n",
       "  'trump_std': 0.033998996519596071},\n",
       " 'Indiana': {'clinton_mean': 0.4438832362330668,\n",
       "  'clinton_std': 0.043760029010023953,\n",
       "  'trump_mean': 0.55611676376693342,\n",
       "  'trump_std': 0.04376002901002396},\n",
       " 'Iowa': {'clinton_mean': 0.49645822262035583,\n",
       "  'clinton_std': 0.034698950258839178,\n",
       "  'trump_mean': 0.50354177737964434,\n",
       "  'trump_std': 0.034698950258839172},\n",
       " 'Kansas': {'clinton_mean': 0.46651395447257382,\n",
       "  'clinton_std': 0.069621987212577535,\n",
       "  'trump_mean': 0.53348604552742618,\n",
       "  'trump_std': 0.069621987212577549},\n",
       " 'Kentucky': {'clinton_mean': 0.41280897346552287,\n",
       "  'clinton_std': 0.048499053319650945,\n",
       "  'trump_mean': 0.58719102653447686,\n",
       "  'trump_std': 0.048499053319650938},\n",
       " 'Louisiana': {'clinton_mean': 0.39826085362778418,\n",
       "  'clinton_std': 0.042265946186370584,\n",
       "  'trump_mean': 0.60173914637221582,\n",
       "  'trump_std': 0.042265946186370605},\n",
       " 'Maine': {'clinton_mean': 0.56160247228933957,\n",
       "  'clinton_std': 0.054394846718552464,\n",
       "  'trump_mean': 0.43839752771066043,\n",
       "  'trump_std': 0.05439484671855245},\n",
       " 'Maine CD-1': {'clinton_mean': 0.59336252468978579,\n",
       "  'clinton_std': 0.030785410898409016,\n",
       "  'trump_mean': 0.40663747531021438,\n",
       "  'trump_std': 0.030785410898409006},\n",
       " 'Maine CD-2': {'clinton_mean': 0.48461708075675108,\n",
       "  'clinton_std': 0.034450974608514331,\n",
       "  'trump_mean': 0.51538291924324897,\n",
       "  'trump_std': 0.034450974608514311},\n",
       " 'Maryland': {'clinton_mean': 0.65660530631752467,\n",
       "  'clinton_std': 0.03497090065214345,\n",
       "  'trump_mean': 0.34339469368247538,\n",
       "  'trump_std': 0.034970900652143463},\n",
       " 'Massachusetts': {'clinton_mean': 0.6554175662920515,\n",
       "  'clinton_std': 0.035374087169626429,\n",
       "  'trump_mean': 0.34458243370794833,\n",
       "  'trump_std': 0.035374087169626423},\n",
       " 'Michigan': {'clinton_mean': 0.53172304746036025,\n",
       "  'clinton_std': 0.026756215416582348,\n",
       "  'trump_mean': 0.46827695253963986,\n",
       "  'trump_std': 0.026756215416582355},\n",
       " 'Minnesota': {'clinton_mean': 0.55568743632595019,\n",
       "  'clinton_std': 0.021362545481939631,\n",
       "  'trump_mean': 0.44431256367404987,\n",
       "  'trump_std': 0.021362545481939613},\n",
       " 'Mississippi': {'clinton_mean': 0.39792064329886495,\n",
       "  'clinton_std': 0.066496736178683347,\n",
       "  'trump_mean': 0.60207935670113522,\n",
       "  'trump_std': 0.066496736178683388},\n",
       " 'Missouri': {'clinton_mean': 0.46433840921912184,\n",
       "  'clinton_std': 0.041610267273181678,\n",
       "  'trump_mean': 0.53566159078087838,\n",
       "  'trump_std': 0.041610267273181657},\n",
       " 'Montana': {'clinton_mean': 0.42581933332483884,\n",
       "  'clinton_std': 0.04896342102554653,\n",
       "  'trump_mean': 0.57418066667516132,\n",
       "  'trump_std': 0.048963421025546537},\n",
       " 'Nebraska': {'clinton_mean': 0.40385986374873178,\n",
       "  'clinton_std': 0.038460733415455348,\n",
       "  'trump_mean': 0.59614013625126794,\n",
       "  'trump_std': 0.038460733415455334},\n",
       " 'Nebraska CD-1': {'clinton_mean': 0.35365853658536583,\n",
       "  'clinton_std': 0.0,\n",
       "  'trump_mean': 0.64634146341463417,\n",
       "  'trump_std': 0.0},\n",
       " 'Nebraska CD-2': {'clinton_mean': 0.46313050289084479,\n",
       "  'clinton_std': 0.014649548680033842,\n",
       "  'trump_mean': 0.53686949710915532,\n",
       "  'trump_std': 0.01464954868003384},\n",
       " 'Nebraska CD-3': {'clinton_mean': 0.23529411764705882,\n",
       "  'clinton_std': 0.0,\n",
       "  'trump_mean': 0.76470588235294112,\n",
       "  'trump_std': 0.0},\n",
       " 'Nevada': {'clinton_mean': 0.50492248844412457,\n",
       "  'clinton_std': 0.022291392628991772,\n",
       "  'trump_mean': 0.49507751155587543,\n",
       "  'trump_std': 0.022291392628991772},\n",
       " 'New Hampshire': {'clinton_mean': 0.54263207332036512,\n",
       "  'clinton_std': 0.047272138523555773,\n",
       "  'trump_mean': 0.457367926679635,\n",
       "  'trump_std': 0.047272138523555787},\n",
       " 'New Jersey': {'clinton_mean': 0.57547284688114952,\n",
       "  'clinton_std': 0.030993259515274513,\n",
       "  'trump_mean': 0.42452715311885036,\n",
       "  'trump_std': 0.030993259515274513},\n",
       " 'New Mexico': {'clinton_mean': 0.55279617966723238,\n",
       "  'clinton_std': 0.041777573324521235,\n",
       "  'trump_mean': 0.44720382033276768,\n",
       "  'trump_std': 0.041777573324521221},\n",
       " 'New York': {'clinton_mean': 0.61770712042109899,\n",
       "  'clinton_std': 0.027108286964950934,\n",
       "  'trump_mean': 0.38229287957890112,\n",
       "  'trump_std': 0.027108286964950934},\n",
       " 'North Carolina': {'clinton_mean': 0.50667791696618592,\n",
       "  'clinton_std': 0.02445057669179123,\n",
       "  'trump_mean': 0.4933220830338142,\n",
       "  'trump_std': 0.024450576691791241},\n",
       " 'North Dakota': {'clinton_mean': 0.35179055284510852,\n",
       "  'clinton_std': 0.048383831759088829,\n",
       "  'trump_mean': 0.64820944715489159,\n",
       "  'trump_std': 0.048383831759088836},\n",
       " 'Ohio': {'clinton_mean': 0.49794794561330125,\n",
       "  'clinton_std': 0.023316701189867201,\n",
       "  'trump_mean': 0.50205205438669875,\n",
       "  'trump_std': 0.023316701189867211},\n",
       " 'Oklahoma': {'clinton_mean': 0.37607702098262547,\n",
       "  'clinton_std': 0.032361444414024998,\n",
       "  'trump_mean': 0.62392297901737459,\n",
       "  'trump_std': 0.032361444414024984},\n",
       " 'Oregon': {'clinton_mean': 0.57920407428812803,\n",
       "  'clinton_std': 0.038503802773858023,\n",
       "  'trump_mean': 0.42079592571187185,\n",
       "  'trump_std': 0.038503802773858002},\n",
       " 'Pennsylvania': {'clinton_mean': 0.52531703491223058,\n",
       "  'clinton_std': 0.021636235639130478,\n",
       "  'trump_mean': 0.47468296508776942,\n",
       "  'trump_std': 0.021636235639130478},\n",
       " 'Rhode Island': {'clinton_mean': 0.59803821194607443,\n",
       "  'clinton_std': 0.058590692148908358,\n",
       "  'trump_mean': 0.40196178805392557,\n",
       "  'trump_std': 0.058590692148908358},\n",
       " 'South Carolina': {'clinton_mean': 0.45793749010241747,\n",
       "  'clinton_std': 0.030631561794608898,\n",
       "  'trump_mean': 0.54206250989758265,\n",
       "  'trump_std': 0.030631561794608877},\n",
       " 'South Dakota': {'clinton_mean': 0.40459876956831897,\n",
       "  'clinton_std': 0.05553362061180539,\n",
       "  'trump_mean': 0.59540123043168081,\n",
       "  'trump_std': 0.05553362061180539},\n",
       " 'Tennessee': {'clinton_mean': 0.41533165692580698,\n",
       "  'clinton_std': 0.031559423625452214,\n",
       "  'trump_mean': 0.58466834307419324,\n",
       "  'trump_std': 0.031559423625452207},\n",
       " 'Texas': {'clinton_mean': 0.4435207647815354,\n",
       "  'clinton_std': 0.031484439585826571,\n",
       "  'trump_mean': 0.55647923521846443,\n",
       "  'trump_std': 0.031484439585826571},\n",
       " 'Utah': {'clinton_mean': 0.44622695506644333,\n",
       "  'clinton_std': 0.046254597949408963,\n",
       "  'trump_mean': 0.55377304493355661,\n",
       "  'trump_std': 0.046254597949408935},\n",
       " 'Vermont': {'clinton_mean': 0.70483434090281138,\n",
       "  'clinton_std': 0.056803251485485443,\n",
       "  'trump_mean': 0.29516565909718862,\n",
       "  'trump_std': 0.05680325148548545},\n",
       " 'Virginia': {'clinton_mean': 0.54693779691639366,\n",
       "  'clinton_std': 0.026514356584808562,\n",
       "  'trump_mean': 0.4530622030836064,\n",
       "  'trump_std': 0.026514356584808565},\n",
       " 'Washington': {'clinton_mean': 0.59268702642058047,\n",
       "  'clinton_std': 0.03046761197944281,\n",
       "  'trump_mean': 0.40731297357941959,\n",
       "  'trump_std': 0.030467611979442824},\n",
       " 'West Virginia': {'clinton_mean': 0.36364977554318001,\n",
       "  'clinton_std': 0.051230302172884379,\n",
       "  'trump_mean': 0.63635022445681999,\n",
       "  'trump_std': 0.051230302172884379},\n",
       " 'Wisconsin': {'clinton_mean': 0.54321204286667557,\n",
       "  'clinton_std': 0.034654541233507363,\n",
       "  'trump_mean': 0.45678795713332426,\n",
       "  'trump_std': 0.034654541233507377},\n",
       " 'Wyoming': {'clinton_mean': 0.28989138125084007,\n",
       "  'clinton_std': 0.048715877623530947,\n",
       "  'trump_mean': 0.71010861874916009,\n",
       "  'trump_std': 0.048715877623530947}}"
      ]
     },
     "execution_count": 139,
     "metadata": {},
     "output_type": "execute_result"
    }
   ],
   "source": [
    "state_dict"
   ]
  },
  {
   "cell_type": "markdown",
   "metadata": {},
   "source": [
    "### Perform 5000 round Monte-Carlo simulation on election result. Code was give in lesson"
   ]
  },
  {
   "cell_type": "code",
   "execution_count": 150,
   "metadata": {
    "collapsed": false
   },
   "outputs": [],
   "source": [
    "# Perform a Monte Carlo simulation for eg 1000 elections in each state, where I have set a normal distribution\n",
    "# on the polling numbers (which are in percentages) with a mean of the poll results and a \n",
    "# fixed standard deviation on every poll (so a number I just made up - you will want to look more \n",
    "# into this to see if you can vary it by state, perhaps based on an historical analysis of polls in the dataset)\n",
    "\n",
    "random_seeds=uniform.rvs(loc=0, scale=5000, size=10000, random_state=42).astype(int)\n",
    "results_total=pd.DataFrame(columns=[\"simulation_number\",\"clinton_results\", \"trump_results\", \"state\"])\n",
    "i=0\n",
    "for s in state_dict:\n",
    "    # Simulate Clinton\n",
    "    domain = state_dict[s]\n",
    "    results_clinton=norm.rvs(domain['clinton_mean'], domain['clinton_std'], 5000, random_state=random_seeds[i])\n",
    "    results_clinton_df=pd.DataFrame(results_clinton).reset_index()\n",
    "    results_clinton_df.columns=[\"simulation_number\", \"clinton_results\"]\n",
    "    # Simulate Trump\n",
    "    results_trump=norm.rvs(domain['trump_mean'], domain['trump_std'], 5000, random_state=random_seeds[i+1])    \n",
    "    results_trump_df=pd.DataFrame(results_trump).reset_index()\n",
    "    results_trump_df.columns=[\"simulation_number\", \"trump_results\"]\n",
    "    # Put them together\n",
    "    results_both=pd.merge(results_clinton_df, results_trump_df, on=\"simulation_number\")\n",
    "    results_both[\"state\"]= s\n",
    "    results_total=pd.concat([results_total, results_both], ignore_index=True)\n",
    "    i=i+1"
   ]
  },
  {
   "cell_type": "code",
   "execution_count": 151,
   "metadata": {
    "collapsed": false
   },
   "outputs": [],
   "source": [
    "# This calculates who won which state under the simulations, and then how many electoral college votes\n",
    "# that implies will go to the winner for that particular simulation\n",
    "\n",
    "results_total[\"winner\"]=np.nan\n",
    "results_total[\"winner\"]=np.where(results_total[\"clinton_results\"]>results_total[\"trump_results\"], \"Clinton\", \"Trump\")\n",
    "results_total2=pd.merge(results_total, electoral_college, on=\"state\", how=\"left\")\n",
    "results_total2[\"trump_ec\"]=np.where(results_total2[\"winner\"]==\"Trump\", results_total2[\"electoral_votes\"], 0)\n",
    "results_total2[\"clinton_ec\"]=np.where(results_total2[\"winner\"]==\"Clinton\", results_total2[\"electoral_votes\"], 0)"
   ]
  },
  {
   "cell_type": "code",
   "execution_count": 152,
   "metadata": {
    "collapsed": true
   },
   "outputs": [],
   "source": [
    "# Calculates how many electoral college votes each candidate wins for each of the simulations\n",
    "\n",
    "trump_electoral_votes=results_total2.groupby([\"simulation_number\"])[\"trump_ec\"].sum().reset_index()\n",
    "clinton_electoral_votes=results_total2.groupby([\"simulation_number\"])[\"clinton_ec\"].sum().reset_index()\n",
    "total_electoral_votes=pd.merge(trump_electoral_votes, clinton_electoral_votes, on=\"simulation_number\")"
   ]
  },
  {
   "cell_type": "code",
   "execution_count": 68,
   "metadata": {
    "collapsed": false
   },
   "outputs": [
    {
     "data": {
      "text/plain": [
       "Clinton    0.9978\n",
       "Trump      0.0022\n",
       "Name: winner, dtype: float64"
      ]
     },
     "execution_count": 68,
     "metadata": {},
     "output_type": "execute_result"
    }
   ],
   "source": [
    "# Returns the percentage probability for each candidate to win based on how many of the simulations they won\n",
    "# Weight 4,3,3,1\n",
    "total_electoral_votes[\"winner\"]=np.where(total_electoral_votes[\"clinton_ec\"]>total_electoral_votes[\"trump_ec\"], \"Clinton\", \"Trump\")\n",
    "total_electoral_votes[\"winner\"].value_counts(normalize=True)"
   ]
  },
  {
   "cell_type": "code",
   "execution_count": 153,
   "metadata": {
    "collapsed": false
   },
   "outputs": [
    {
     "data": {
      "text/plain": [
       "Clinton    0.997\n",
       "Trump      0.003\n",
       "Name: winner, dtype: float64"
      ]
     },
     "execution_count": 153,
     "metadata": {},
     "output_type": "execute_result"
    }
   ],
   "source": [
    "# Returns the percentage probability for each candidate to win based on how many of the simulations they won\n",
    "# Different weights\n",
    "total_electoral_votes[\"winner\"]=np.where(total_electoral_votes[\"clinton_ec\"]>total_electoral_votes[\"trump_ec\"], \"Clinton\", \"Trump\")\n",
    "total_electoral_votes[\"winner\"].value_counts(normalize=True)"
   ]
  },
  {
   "cell_type": "code",
   "execution_count": 134,
   "metadata": {
    "collapsed": false
   },
   "outputs": [
    {
     "data": {
      "image/png": "[encoded data removed]",
      "text/plain": [
       "<matplotlib.figure.Figure at 0x11c603490>"
      ]
     },
     "metadata": {},
     "output_type": "display_data"
    }
   ],
   "source": [
    "# Plot to show the distribution of total electoral college votes in the simulations\n",
    "\n",
    "plt.hist(total_electoral_votes[\"clinton_ec\"], color=\"blue\", normed=True, bins=100, alpha=0.8)\n",
    "plt.hist(total_electoral_votes[\"trump_ec\"], color=\"red\", normed=True, bins=100, alpha=0.8)\n",
    "plt.show()"
   ]
  },
  {
   "cell_type": "markdown",
   "metadata": {},
   "source": [
    "### Small Conclusion\n",
    "\n",
    "Comparing to the reuslts generated by the instructor (who only looked at the most current poll), it seems that the accuracy of this simulation is even worse. It suggests that Clinton would almost certainly win but it is not the case in the real world (Or it might be that remaining 0.2%?). This has led one to think deeper about election analysis and predictions. For example this result seems to suggest that in elections, the more recent the poll the more relevant it is. This is because the above analysis consist of an aggreation of past results which some dates back to almost one year before the election. It is possible to try changing the weight to counter this effect but it does not yield significant improvement in this case. \n",
    "\n",
    "The simulation would also benefit from being provided more data. More data means more instances and greater variety. It is expected that Clinton would win out in this investigation because we are just recreating the distribution with the given data. It is <a href='http://www.independent.co.uk/news/world/americas/us-elections/mogia-ai-system-that-correctly-predicted-last-3-us-elections-says-donald-trump-will-win-artificial-a7384671.html'>reported</a> that some succeeded in predicting Trump's victory. However their approach was vastly different from the traditional method like the ones we have carried out. They have incorprated social media engagement as their main predictor. This is a very interesting obseravation as it has demonstrated online precense is very iportant even traditional sectors such as politics.\n",
    "\n",
    "It is also a good reflection on the importance of data quality. In computer science there is a famous quote \"Garbage in, garbage out\". This is not to say that the data provided are not of good quality. It is only a fact that poll data quality can vary by a large amount. It is because we are assuming interviees are always speaking of the truth and the sample data are truely collected randomly. Neither of the factors are within the analyst control. This can also partly explain why so many analyst got the result wrong in the very first place."
   ]
  }
 ],
 "metadata": {
  "anaconda-cloud": {},
  "kernelspec": {
   "display_name": "Python [default]",
   "language": "python",
   "name": "python2"
  },
  "language_info": {
   "codemirror_mode": {
    "name": "ipython",
    "version": 2
   },
   "file_extension": ".py",
   "mimetype": "text/x-python",
   "name": "python",
   "nbconvert_exporter": "python",
   "pygments_lexer": "ipython2",
   "version": "2.7.12"
  }
 },
 "nbformat": 4,
 "nbformat_minor": 1
}
